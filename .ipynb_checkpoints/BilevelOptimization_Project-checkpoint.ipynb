{
 "cells": [
  {
   "cell_type": "code",
   "execution_count": 2,
   "id": "97b8dab6",
   "metadata": {},
   "outputs": [
    {
     "name": "stderr",
     "output_type": "stream",
     "text": [
      "\u001b[32m\u001b[1m  Activating\u001b[22m\u001b[39m project at `C:\\Users\\Chris\\Documents\\AMO-single`\n"
     ]
    },
    {
     "name": "stdout",
     "output_type": "stream",
     "text": [
      "\u001b[32m\u001b[1mStatus\u001b[22m\u001b[39m `C:\\Users\\Chris\\Documents\\AMO-single\\Project.toml`\n",
      " \u001b[90m [6e4b80f9] \u001b[39mBenchmarkTools v1.3.2\n",
      " \u001b[90m [485130c0] \u001b[39mBilevelJuMP v0.5.2\n",
      " \u001b[90m [a076750e] \u001b[39mCPLEX v0.9.7\n",
      " \u001b[90m [336ed68f] \u001b[39mCSV v0.10.9\n",
      " \u001b[90m [aaaa29a8] \u001b[39mClustering v0.14.3\n",
      "\u001b[32m⌃\u001b[39m\u001b[90m [a9b2a840] \u001b[39mComplementarity v0.8.4\n",
      " \u001b[90m [a93c6f00] \u001b[39mDataFrames v1.5.0\n",
      " \u001b[90m [864edb3b] \u001b[39mDataStructures v0.18.13\n",
      " \u001b[90m [b4f34e82] \u001b[39mDistances v0.10.7\n",
      " \u001b[90m [31c24e10] \u001b[39mDistributions v0.25.86\n",
      " \u001b[90m [5789e2e9] \u001b[39mFileIO v1.16.0\n",
      " \u001b[90m [87dc4568] \u001b[39mHiGHS v1.4.3\n",
      " \u001b[90m [7073ff75] \u001b[39mIJulia v1.24.0\n",
      " \u001b[90m [916415d5] \u001b[39mImages v0.25.2\n",
      " \u001b[90m [b6b21f68] \u001b[39mIpopt v1.2.0\n",
      " \u001b[90m [c8e1da08] \u001b[39mIterTools v1.4.0\n",
      "\u001b[33m⌅\u001b[39m\u001b[90m [4076af6c] \u001b[39mJuMP v1.1.1\n",
      " \u001b[90m [b8f27783] \u001b[39mMathOptInterface v1.13.1\n",
      " \u001b[90m [8314cec4] \u001b[39mPGFPlotsX v1.5.3\n",
      " \u001b[90m [f0f68f2c] \u001b[39mPlotlyJS v0.18.10\n",
      " \u001b[90m [91a5bcdd] \u001b[39mPlots v1.38.6\n",
      " \u001b[90m [67491407] \u001b[39mPolyhedra v0.7.6\n",
      " \u001b[90m [ce6b1742] \u001b[39mRDatasets v0.7.7\n",
      " \u001b[90m [f3b207a7] \u001b[39mStatsPlots v0.15.4\n",
      " \u001b[90m [fdbf4ff8] \u001b[39mXLSX v0.8.4\n",
      " \u001b[90m [9a3f8284] \u001b[39mRandom\n",
      " \u001b[90m [10745b16] \u001b[39mStatistics\n",
      "\u001b[36m\u001b[1mInfo\u001b[22m\u001b[39m Packages marked with \u001b[32m⌃\u001b[39m and \u001b[33m⌅\u001b[39m have new versions available, but those with \u001b[33m⌅\u001b[39m are restricted by compatibility constraints from upgrading. To see why use `status --outdated`\n"
     ]
    }
   ],
   "source": [
    "using Pkg\n",
    "Pkg.activate(\".\")\n",
    "Pkg.instantiate()\n",
    "Pkg.status()"
   ]
  },
  {
   "cell_type": "code",
   "execution_count": 3,
   "id": "675874d3",
   "metadata": {},
   "outputs": [],
   "source": [
    "using CPLEX\n",
    "using BilevelJuMP\n",
    "using JuMP\n",
    "using BenchmarkTools"
   ]
  },
  {
   "cell_type": "code",
   "execution_count": 19,
   "id": "11c49d39",
   "metadata": {},
   "outputs": [
    {
     "data": {
      "text/plain": [
       "1:1"
      ]
     },
     "execution_count": 19,
     "metadata": {},
     "output_type": "execute_result"
    }
   ],
   "source": [
    "Ω = 1:1\n",
    "K = 1:1\n",
    "J = 1:1"
   ]
  },
  {
   "cell_type": "markdown",
   "id": "86462f5e",
   "metadata": {},
   "source": [
    "## Setup\n",
    "\n",
    "Wind power producer - maximize total revenues from day-ahead and balancing market  "
   ]
  },
  {
   "cell_type": "code",
   "execution_count": 33,
   "id": "c62824ce",
   "metadata": {},
   "outputs": [
    {
     "ename": "LoadError",
     "evalue": "KeyError: key 1-dimensional DenseAxisArray{VariableRef,1,...} with index sets:\n    Dimension 1, 1:1\nAnd data, a 1-element Vector{VariableRef}:\n ω[1] not found",
     "output_type": "error",
     "traceback": [
      "KeyError: key 1-dimensional DenseAxisArray{VariableRef,1,...} with index sets:\n    Dimension 1, 1:1\nAnd data, a 1-element Vector{VariableRef}:\n ω[1] not found",
      "",
      "Stacktrace:",
      " [1] getindex(#unused#::JuMP.Containers._AxisLookup{Tuple{Int64, Int64}}, key::JuMP.Containers.DenseAxisArray{VariableRef, 1, Tuple{UnitRange{Int64}}, Tuple{JuMP.Containers._AxisLookup{Tuple{Int64, Int64}}}})",
      "   @ JuMP.Containers C:\\Users\\Chris\\.julia\\packages\\JuMP\\Y4piv\\src\\Containers\\DenseAxisArray.jl:18",
      " [2] _getindex_recurse(data::Tuple{JuMP.Containers._AxisLookup{Tuple{Int64, Int64}}}, keys::Tuple{JuMP.Containers.DenseAxisArray{VariableRef, 1, Tuple{UnitRange{Int64}}, Tuple{JuMP.Containers._AxisLookup{Tuple{Int64, Int64}}}}}, condition::JuMP.Containers.var\"#10#12\")",
      "   @ JuMP.Containers C:\\Users\\Chris\\.julia\\packages\\JuMP\\Y4piv\\src\\Containers\\DenseAxisArray.jl:309",
      " [3] _getindex_recurse(data::Tuple{JuMP.Containers._AxisLookup{Tuple{Int64, Int64}}, JuMP.Containers._AxisLookup{Tuple{Int64, Int64}}}, keys::Tuple{Int64, JuMP.Containers.DenseAxisArray{VariableRef, 1, Tuple{UnitRange{Int64}}, Tuple{JuMP.Containers._AxisLookup{Tuple{Int64, Int64}}}}}, condition::JuMP.Containers.var\"#10#12\")",
      "   @ JuMP.Containers C:\\Users\\Chris\\.julia\\packages\\JuMP\\Y4piv\\src\\Containers\\DenseAxisArray.jl:308",
      " [4] to_index(A::JuMP.Containers.DenseAxisArray{VariableRef, 2, Tuple{UnitRange{Int64}, UnitRange{Int64}}, Tuple{JuMP.Containers._AxisLookup{Tuple{Int64, Int64}}, JuMP.Containers._AxisLookup{Tuple{Int64, Int64}}}}, idx::Tuple{Int64, JuMP.Containers.DenseAxisArray{VariableRef, 1, Tuple{UnitRange{Int64}}, Tuple{JuMP.Containers._AxisLookup{Tuple{Int64, Int64}}}}})",
      "   @ JuMP.Containers C:\\Users\\Chris\\.julia\\packages\\JuMP\\Y4piv\\src\\Containers\\DenseAxisArray.jl:318",
      " [5] getindex(::JuMP.Containers.DenseAxisArray{VariableRef, 2, Tuple{UnitRange{Int64}, UnitRange{Int64}}, Tuple{JuMP.Containers._AxisLookup{Tuple{Int64, Int64}}, JuMP.Containers._AxisLookup{Tuple{Int64, Int64}}}}, ::Int64, ::JuMP.Containers.DenseAxisArray{VariableRef, 1, Tuple{UnitRange{Int64}}, Tuple{JuMP.Containers._AxisLookup{Tuple{Int64, Int64}}}})",
      "   @ JuMP.Containers C:\\Users\\Chris\\.julia\\packages\\JuMP\\Y4piv\\src\\Containers\\DenseAxisArray.jl:325",
      " [6] macro expansion",
      "   @ C:\\Users\\Chris\\.julia\\packages\\MutableArithmetics\\geMUn\\src\\rewrite.jl:322 [inlined]",
      " [7] macro expansion",
      "   @ C:\\Users\\Chris\\.julia\\packages\\JuMP\\Y4piv\\src\\macros.jl:1284 [inlined]",
      " [8] top-level scope",
      "   @ .\\In[33]:29"
     ]
    }
   ],
   "source": [
    "model = Model(CPLEX.Optimizer)\n",
    "\n",
    "@variables(model, begin\n",
    "    x[ω in Ω]\n",
    "    y[ω in Ω]\n",
    "    δ[ω in Ω]\n",
    "    pk[k in K, ω in Ω]\n",
    "    pj[j in J, ω in Ω]\n",
    "    c[k in K, ω in Ω] \n",
    "    Ck[k in K]\n",
    "    Cj[j in J]\n",
    "    λ_B[ω in Ω] \n",
    "    μ_D[k in K, ω in Ω]\n",
    "    μ_S[k in K, ω in Ω]\n",
    "    b[j in J]\n",
    "    ω[ω in Ω]\n",
    "    M_SD\n",
    "    M_SS\n",
    "    M_S\n",
    "    z_S1\n",
    "    z_S2\n",
    "    z_D1\n",
    "    z_D2\n",
    "end)\n",
    "\n",
    "\n",
    "\n",
    "@objective(model, Min,\n",
    "    sum(Ck[k]*pk[k, ω] for k in K) - sum(b[j]*pj[j, ω] for j in J))\n",
    "\n",
    "@constraint(model, LL2[k in K, j in J, ω in Ω],\n",
    "    sum(pk[k, ω] for k in K) - sum(pj[j, ω] for j in J) = -(ω[ω] - x[ω]) - δ[ω] : λ_B[ω])\n",
    "\n",
    "@constraint(model, LL3[k in K],\n",
    "    -pk[k, ω] >= Ck[k] : μ_S[k, ω])\n",
    "\n",
    "@constraint(model, LL4[j in J],\n",
    "    -pj[j, ω] >= -Cj[j] : μ_D[j, ω])\n",
    "\n",
    "@constraint(model, LL5[k in K, j in J],\n",
    "    (pk[k, ω], pj[j, ω]) >= 0)\n",
    "\n",
    "print(model)"
   ]
  },
  {
   "cell_type": "markdown",
   "id": "f2ce3ede",
   "metadata": {},
   "source": [
    "### KKT\n"
   ]
  },
  {
   "cell_type": "code",
   "execution_count": 35,
   "id": "f025cb0c",
   "metadata": {},
   "outputs": [
    {
     "ename": "LoadError",
     "evalue": "KeyError: key 1-dimensional DenseAxisArray{VariableRef,1,...} with index sets:\n    Dimension 1, 1:1\nAnd data, a 1-element Vector{VariableRef}:\n ω[1] not found",
     "output_type": "error",
     "traceback": [
      "KeyError: key 1-dimensional DenseAxisArray{VariableRef,1,...} with index sets:\n    Dimension 1, 1:1\nAnd data, a 1-element Vector{VariableRef}:\n ω[1] not found",
      "",
      "Stacktrace:",
      " [1] getindex(#unused#::JuMP.Containers._AxisLookup{Tuple{Int64, Int64}}, key::JuMP.Containers.DenseAxisArray{VariableRef, 1, Tuple{UnitRange{Int64}}, Tuple{JuMP.Containers._AxisLookup{Tuple{Int64, Int64}}}})",
      "   @ JuMP.Containers C:\\Users\\Chris\\.julia\\packages\\JuMP\\Y4piv\\src\\Containers\\DenseAxisArray.jl:18",
      " [2] _getindex_recurse(data::Tuple{JuMP.Containers._AxisLookup{Tuple{Int64, Int64}}}, keys::Tuple{JuMP.Containers.DenseAxisArray{VariableRef, 1, Tuple{UnitRange{Int64}}, Tuple{JuMP.Containers._AxisLookup{Tuple{Int64, Int64}}}}}, condition::JuMP.Containers.var\"#10#12\")",
      "   @ JuMP.Containers C:\\Users\\Chris\\.julia\\packages\\JuMP\\Y4piv\\src\\Containers\\DenseAxisArray.jl:309",
      " [3] _getindex_recurse(data::Tuple{JuMP.Containers._AxisLookup{Tuple{Int64, Int64}}, JuMP.Containers._AxisLookup{Tuple{Int64, Int64}}}, keys::Tuple{Int64, JuMP.Containers.DenseAxisArray{VariableRef, 1, Tuple{UnitRange{Int64}}, Tuple{JuMP.Containers._AxisLookup{Tuple{Int64, Int64}}}}}, condition::JuMP.Containers.var\"#10#12\")",
      "   @ JuMP.Containers C:\\Users\\Chris\\.julia\\packages\\JuMP\\Y4piv\\src\\Containers\\DenseAxisArray.jl:308",
      " [4] to_index(A::JuMP.Containers.DenseAxisArray{VariableRef, 2, Tuple{UnitRange{Int64}, UnitRange{Int64}}, Tuple{JuMP.Containers._AxisLookup{Tuple{Int64, Int64}}, JuMP.Containers._AxisLookup{Tuple{Int64, Int64}}}}, idx::Tuple{Int64, JuMP.Containers.DenseAxisArray{VariableRef, 1, Tuple{UnitRange{Int64}}, Tuple{JuMP.Containers._AxisLookup{Tuple{Int64, Int64}}}}})",
      "   @ JuMP.Containers C:\\Users\\Chris\\.julia\\packages\\JuMP\\Y4piv\\src\\Containers\\DenseAxisArray.jl:318",
      " [5] getindex(::JuMP.Containers.DenseAxisArray{VariableRef, 2, Tuple{UnitRange{Int64}, UnitRange{Int64}}, Tuple{JuMP.Containers._AxisLookup{Tuple{Int64, Int64}}, JuMP.Containers._AxisLookup{Tuple{Int64, Int64}}}}, ::Int64, ::JuMP.Containers.DenseAxisArray{VariableRef, 1, Tuple{UnitRange{Int64}}, Tuple{JuMP.Containers._AxisLookup{Tuple{Int64, Int64}}}})",
      "   @ JuMP.Containers C:\\Users\\Chris\\.julia\\packages\\JuMP\\Y4piv\\src\\Containers\\DenseAxisArray.jl:325",
      " [6] macro expansion",
      "   @ C:\\Users\\Chris\\.julia\\packages\\MutableArithmetics\\geMUn\\src\\rewrite.jl:322 [inlined]",
      " [7] macro expansion",
      "   @ C:\\Users\\Chris\\.julia\\packages\\JuMP\\Y4piv\\src\\macros.jl:1284 [inlined]",
      " [8] top-level scope",
      "   @ .\\In[35]:29"
     ]
    }
   ],
   "source": [
    "model_KKT = Model(CPLEX.Optimizer)\n",
    "\n",
    "@variables(model_KKT, begin\n",
    "    x[ω in Ω]\n",
    "    y[ω in Ω]\n",
    "    δ[ω in Ω]\n",
    "    pk[k in K, ω in Ω]\n",
    "    pj[j in J, ω in Ω]\n",
    "    c[k in K, ω in Ω] \n",
    "    Ck[k in K]\n",
    "    Cj[j in J]\n",
    "    λ_B[ω in Ω] \n",
    "    μ_D[k in K, ω in Ω]\n",
    "    μ_S[k in K, ω in Ω]\n",
    "    b[j in J]\n",
    "    ω[ω in Ω]\n",
    "    M_SD\n",
    "    M_SS\n",
    "    M_S\n",
    "    z_S1\n",
    "    z_S2\n",
    "    z_D1\n",
    "    z_D2\n",
    "end)\n",
    "\n",
    "\n",
    "\n",
    "@objective(model_KKT, Min,\n",
    "    sum(Ck[k]*pk[k, ω] for k in K) - sum(b[j]*pj[j, ω] for j in J))\n",
    "\n",
    "@constraint(model_KKT, KKT2[k in K, ω in Ω],\n",
    "    0 <= pk[k, ω] ⟂ c[k] - λ_B[ω] + μ_S[k, ω] >= 0)\n",
    "\n",
    "@constraint(model_KKT, KKT3[j in J, ω in Ω],\n",
    "    0 <= pk[j, ω] ⟂ -b[j] + λ_B[ω] + μ_d[j, ω] >= 0)\n",
    "\n",
    "@constraint(model_KKT, KKT4[k in K, j in J, ω in Ω],\n",
    "    sum(pk[k, ω] for k in K) - sum(pj[j, ω] for j in J) = -(ω[ω] - x[ω]) -δ[ω])\n",
    "\n",
    "@constraint(model_KKT, KKT5[k in K, ω in Ω],\n",
    "    0 <= μ_S[k, ω] ⟂ Ck[k] - pk[k, ω] >= 0)\n",
    "\n",
    "@constraint(model_KKT, KKT6[j in J, ω in Ω],\n",
    "    0 <= μ_S[j, ω] ⟂ Cj[j] - pj[j, ω] >= 0)\n",
    "\n",
    "print(model_KKT)"
   ]
  },
  {
   "cell_type": "code",
   "execution_count": null,
   "id": "d3fba4fd",
   "metadata": {},
   "outputs": [],
   "source": [
    "optimize!(model_KKT)"
   ]
  },
  {
   "cell_type": "code",
   "execution_count": null,
   "id": "2cb8d789",
   "metadata": {},
   "outputs": [],
   "source": [
    "model_M = Model(CPLEX.Optimizer)\n",
    "M_S = 1_000_000\n",
    "M_SS = 1_000_000\n",
    "M_SD = 1_000_000\n",
    "\n",
    "@variables(model_M, begin\n",
    "    x[ω in Ω]\n",
    "    y[ω in Ω]\n",
    "    δ[ω in Ω]\n",
    "    pk[k in K, ω in Ω]\n",
    "    pj[j in J, ω in Ω]\n",
    "    c[k in K, ω in Ω]\n",
    "    Ck[k in K]\n",
    "    Cj[j in J]\n",
    "    λ_B[ω in Ω] \n",
    "    μ_D[k in K, ω in Ω]\n",
    "    μ_S[k in K, ω in Ω]\n",
    "    b[j in J]\n",
    "    ω[ω in Ω]\n",
    "    z_S1[k in K, ω in Ω]\n",
    "    z_S2[k in K, ω in Ω]\n",
    "    z_D1[j in J, ω in Ω]\n",
    "    z_D2[j in J, ω in Ω]\n",
    "end)\n",
    "\n",
    "\n",
    "\n",
    "@objective(model_M, Min,\n",
    "    sum(Ck[k]*pk[k, ω] for k in K) - sum(b[j]*pj[j, ω] for j in J))\n",
    "\n",
    "@constraint(model_M, M2[k in K, ω in Ω],\n",
    "    0 <= c[k] - λ_B[ω] + μ_S[k, ω] <= M_SS[1] * z_S1[k, ω])\n",
    "\n",
    "@constraint(model_M, M3[k in K, ω in Ω],\n",
    "    0 <= pk[k, ω] <= M_SS[2] * (1 - z_S1[k, ω]))\n",
    "\n",
    "@constraint(model_M, M3[j in J, ω in Ω],\n",
    "    0 <= -b[j] - λ_B[ω] + μ_D[j, ω] <= M_SD[1] * z_D1[j, ω])\n",
    "\n",
    "@constraint(model_M, M4[j in J, ω in Ω],\n",
    "    0 <= pj[j, ω] <= M_SD[2] * (1 - z_D1[j, ω]))\n",
    "g\n",
    "@constraint(model_M, M5[k in K, j in J, ω in Ω],\n",
    "    sum(pk[k, ω] for k in K) - sum(pj[j, ω] for j in J) = - ( ω[ω] - x[ω] ) - δ[ω])\n",
    "\n",
    "@constraint(model_M, M6[k in K, ω in Ω],\n",
    "    0 <= Ck[k] - pk[k, ω] <= M_S[1] * z_S2[k, ω])\n",
    "\n",
    "@constraint(model_M, M7[k in K, ω in Ω],\n",
    "    0 <= μ_S[k, ω] <= M_S[2] * ( 1 - z_S2[k, ω] ))\n",
    "\n",
    "@constraint(model_M, M8[j in J, ω in Ω],\n",
    "    0 <= Cj[j] - pj[j, ω] <= M_D[1] * z_D2[j, ω])\n",
    "\n",
    "@constraint(model_M, M9[j in j, ω in Ω],\n",
    "    0 <= μ_S[j, ω] <= M_D[2] * ( 1 - z_D2[j, ω] ))\n",
    "\n",
    "@constraint(model_M, M10[k in K, j in J, ω in Ω],\n",
    "    (z_S1[k, ω], z_D1[j, ω], z_S2[k, ω], z_D2[j, ω]) in {0, 1})\n",
    "\n",
    "print(model_M)"
   ]
  },
  {
   "cell_type": "code",
   "execution_count": null,
   "id": "7c39d77c",
   "metadata": {},
   "outputs": [],
   "source": [
    "optimize!(model_M)"
   ]
  },
  {
   "cell_type": "markdown",
   "id": "3fecc9db",
   "metadata": {},
   "source": [
    "## Final Optimization Problem\n",
    "MILP"
   ]
  },
  {
   "cell_type": "code",
   "execution_count": 36,
   "id": "69416248",
   "metadata": {},
   "outputs": [
    {
     "ename": "LoadError",
     "evalue": "cannot assign a value to variable MathConstants.π from module Main",
     "output_type": "error",
     "traceback": [
      "cannot assign a value to variable MathConstants.π from module Main",
      "",
      "Stacktrace:",
      " [1] macro expansion",
      "   @ C:\\Users\\Chris\\.julia\\packages\\JuMP\\Y4piv\\src\\macros.jl:149 [inlined]",
      " [2] top-level scope",
      "   @ In[36]:17"
     ]
    }
   ],
   "source": [
    "mf = Model(CPLEX.Optimizer)\n",
    "\n",
    "@variables(mf, begin\n",
    "    x[ω in Ω]\n",
    "    y[ω in Ω]\n",
    "    δ[ω in Ω]\n",
    "    pk[k in K, ω in Ω]\n",
    "    pj[j in J, ω in Ω]\n",
    "    c[k in K, ω in Ω]\n",
    "    Ck[k in K]\n",
    "    Cj[j in J]\n",
    "    λ_B[ω in Ω] \n",
    "    μ_D[k in K, ω in Ω]\n",
    "    μ_S[k in K, ω in Ω]\n",
    "    b[j in J]\n",
    "    ω[ω in Ω]\n",
    "    π[ω in Ω]\n",
    "    z_S1[k in K, ω in Ω]\n",
    "    z_S2[k in K, ω in Ω]\n",
    "    z_D1[j in J, ω in Ω]\n",
    "    z_D2[j in J, ω in Ω]\n",
    "end)\n",
    "\n",
    "@objective(mf, Max,\n",
    "    sum(π[ω] for ω in Ω) * \n",
    "        (λ_DA[ω] * x[ω] - \n",
    "                    sum((Ck[k] * μ_S[k, ω] + c[k] * p[k, ω]) for k in K) + \n",
    "                    sum((-C[j] * μ_D[j, ω] + b[j] * p[j, ω]) for j in J) - λ_B[ω] * δ[ω]\n",
    "        )\n",
    "    )\n",
    "\n",
    "\n",
    "@constraint(mf, 6b[ω in Ω],\n",
    "    0 <= x[ω] <= C_W)\n",
    "\n",
    "@constraint(mf, 6c[ω in Ω],\n",
    "    x[ω] = x[ω'])\n",
    "\n",
    "@constraint(mf, 6d[ω in Ω],\n",
    "    x[ω] <= x[ω'])\n",
    "\n",
    "\n",
    "\n",
    "@constraint(mf, M2[k in K, ω in Ω],\n",
    "    0 <= c[k] - λ_B[ω] + μ_S[k, ω] <= M_SS[1] * z_S1[k, ω])\n",
    "\n",
    "@constraint(mf, M3[k in K, ω in Ω],\n",
    "    0 <= pk[k, ω] <= M_SS[2] * (1 - z_S1[k, ω]))\n",
    "\n",
    "@constraint(mf, M3[j in J, ω in Ω],\n",
    "    0 <= -b[j] - λ_B[ω] + μ_D[j, ω] <= M_SD[1] * z_D1[j, ω])\n",
    "\n",
    "@constraint(mf, M4[j in J, ω in Ω],\n",
    "    0 <= pj[j, ω] <= M_SD[2] * (1 - z_D1[j, ω]))\n",
    "g\n",
    "@constraint(mf, M5[k in K, j in J, ω in Ω],\n",
    "    sum(pk[k, ω] for k in K) - sum(pj[j, ω] for j in J) = - ( ω[ω] - x[ω] ) - δ[ω])\n",
    "\n",
    "@constraint(mf, M6[k in K, ω in Ω],\n",
    "    0 <= Ck[k] - pk[k, ω] <= M_S[1] * z_S2[k, ω])\n",
    "\n",
    "@constraint(mf, M7[k in K, ω in Ω],\n",
    "    0 <= μ_S[k, ω] <= M_S[2] * ( 1 - z_S2[k, ω] ))\n",
    "\n",
    "@constraint(mf, M8[j in J, ω in Ω],\n",
    "    0 <= Cj[j] - pj[j, ω] <= M_D[1] * z_D2[j, ω])\n",
    "\n",
    "@constraint(mf, M9[j in j, ω in Ω],\n",
    "    0 <= μ_S[j, ω] <= M_D[2] * ( 1 - z_D2[j, ω] ))\n",
    "\n",
    "@constraint(mf, M10[k in K, j in J, ω in Ω],\n",
    "    (z_S1[k, ω], z_D1[j, ω], z_S2[k, ω], z_D2[j, ω]) in {0, 1})"
   ]
  },
  {
   "cell_type": "markdown",
   "id": "b888b6cd",
   "metadata": {},
   "source": [
    "## Decomposition"
   ]
  },
  {
   "cell_type": "code",
   "execution_count": null,
   "id": "c9e63b84",
   "metadata": {},
   "outputs": [],
   "source": [
    "master = Model(\n",
    "    optimizer_with_attributes(\n",
    "        CPLEX.Optimizer,\n",
    "        \"CPX_PARAM_REDUCE\" => 0\n",
    "    )\n",
    ")\n",
    "\n",
    "#master should be upper level\n"
   ]
  },
  {
   "cell_type": "code",
   "execution_count": null,
   "id": "b0f2f465",
   "metadata": {},
   "outputs": [],
   "source": [
    "sub = Model(CPLEX.Optimizer)\n",
    "\n",
    "#sub should be lower level"
   ]
  },
  {
   "cell_type": "code",
   "execution_count": null,
   "id": "54a9fbe9",
   "metadata": {},
   "outputs": [],
   "source": [
    "it = 0\n",
    "\n",
    "while true\n",
    "    # solve master problem\n",
    "    optimize!(master)\n",
    "    if termination_status(master) == MOI.DUAL_INFEASIBLE\n",
    "        α = -Inf\n",
    "    else\n",
    "        α = value(master[:α])\n",
    "    end\n",
    "    xf = value(master[:x])\n",
    "    set_value(sub[:x], xf)\n",
    "    \n",
    "    # solve subproblem(s)\n",
    "    optimize!(sub)\n",
    "    y = value(sub[:y])\n",
    "    η = dual(sub[:x]) # dual on equality constraint of fixed x\n",
    "    \n",
    "    if objective_value(sub) ≈ α # convergence criterion\n",
    "        break\n",
    "    else\n",
    "        it += 1\n",
    "        con = @constraint(master, master[:α] >= objective_value(sub) + η*(master[:x]-xf)) # Benders Cut\n",
    "        set_name(con, \"bc\"*string(it))\n",
    "    end\n",
    "end"
   ]
  }
 ],
 "metadata": {
  "kernelspec": {
   "display_name": "Julia 1.8.2",
   "language": "julia",
   "name": "julia-1.8"
  },
  "language_info": {
   "file_extension": ".jl",
   "mimetype": "application/julia",
   "name": "julia",
   "version": "1.8.2"
  }
 },
 "nbformat": 4,
 "nbformat_minor": 5
}
