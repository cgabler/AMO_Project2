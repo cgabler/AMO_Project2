{
 "cells": [
  {
   "cell_type": "code",
   "execution_count": 1,
   "metadata": {},
   "outputs": [
    {
     "ename": "LoadError",
     "evalue": "UndefVarError: Pkg not defined",
     "output_type": "error",
     "traceback": [
      "UndefVarError: Pkg not defined",
      "",
      "Stacktrace:",
      " [1] top-level scope",
      "   @ In[1]:1"
     ]
    }
   ],
   "source": [
    "Pkg.resolve() # Installiert alle dependiencies aus Project.toml auf dem Rechner. Muss nur einmal ausgeführt werden."
   ]
  },
  {
   "cell_type": "code",
   "execution_count": 2,
   "metadata": {},
   "outputs": [
    {
     "name": "stderr",
     "output_type": "stream",
     "text": [
      "\u001b[32m\u001b[1m  Activating\u001b[22m\u001b[39m project at `C:\\Users\\Chris\\Documents\\AMO-single`\n"
     ]
    },
    {
     "name": "stdout",
     "output_type": "stream",
     "text": [
      "\u001b[32m\u001b[1mStatus\u001b[22m\u001b[39m `C:\\Users\\Chris\\Documents\\AMO-single\\Project.toml`\n",
      " \u001b[90m [6e4b80f9] \u001b[39mBenchmarkTools v1.3.2\n",
      " \u001b[90m [485130c0] \u001b[39mBilevelJuMP v0.5.2\n",
      " \u001b[90m [a076750e] \u001b[39mCPLEX v0.9.7\n",
      " \u001b[90m [336ed68f] \u001b[39mCSV v0.10.9\n",
      " \u001b[90m [aaaa29a8] \u001b[39mClustering v0.14.3\n",
      "\u001b[32m⌃\u001b[39m\u001b[90m [a9b2a840] \u001b[39mComplementarity v0.8.4\n",
      " \u001b[90m [a93c6f00] \u001b[39mDataFrames v1.5.0\n",
      " \u001b[90m [864edb3b] \u001b[39mDataStructures v0.18.13\n",
      " \u001b[90m [b4f34e82] \u001b[39mDistances v0.10.7\n",
      " \u001b[90m [31c24e10] \u001b[39mDistributions v0.25.86\n",
      " \u001b[90m [5789e2e9] \u001b[39mFileIO v1.16.0\n",
      " \u001b[90m [87dc4568] \u001b[39mHiGHS v1.4.3\n",
      " \u001b[90m [7073ff75] \u001b[39mIJulia v1.24.0\n",
      " \u001b[90m [916415d5] \u001b[39mImages v0.25.2\n",
      " \u001b[90m [b6b21f68] \u001b[39mIpopt v1.2.0\n",
      " \u001b[90m [c8e1da08] \u001b[39mIterTools v1.4.0\n",
      "\u001b[33m⌅\u001b[39m\u001b[90m [4076af6c] \u001b[39mJuMP v1.1.1\n",
      " \u001b[90m [b8f27783] \u001b[39mMathOptInterface v1.13.1\n",
      " \u001b[90m [8314cec4] \u001b[39mPGFPlotsX v1.5.3\n",
      " \u001b[90m [f0f68f2c] \u001b[39mPlotlyJS v0.18.10\n",
      " \u001b[90m [91a5bcdd] \u001b[39mPlots v1.38.6\n",
      " \u001b[90m [67491407] \u001b[39mPolyhedra v0.7.6\n",
      " \u001b[90m [ce6b1742] \u001b[39mRDatasets v0.7.7\n",
      " \u001b[90m [f3b207a7] \u001b[39mStatsPlots v0.15.4\n",
      " \u001b[90m [fdbf4ff8] \u001b[39mXLSX v0.8.4\n",
      " \u001b[90m [9a3f8284] \u001b[39mRandom\n",
      " \u001b[90m [10745b16] \u001b[39mStatistics\n",
      "\u001b[36m\u001b[1mInfo\u001b[22m\u001b[39m Packages marked with \u001b[32m⌃\u001b[39m and \u001b[33m⌅\u001b[39m have new versions available, but those with \u001b[33m⌅\u001b[39m are restricted by compatibility constraints from upgrading. To see why use `status --outdated`\n"
     ]
    }
   ],
   "source": [
    "using Pkg\n",
    "Pkg.activate(\".\")\n",
    "Pkg.instantiate()\n",
    "Pkg.status()"
   ]
  },
  {
   "cell_type": "code",
   "execution_count": 10,
   "metadata": {
    "collapsed": true
   },
   "outputs": [
    {
     "name": "stderr",
     "output_type": "stream",
     "text": [
      "\u001b[32m\u001b[1m   Resolving\u001b[22m\u001b[39m package versions...\n",
      "\u001b[32m\u001b[1m  No Changes\u001b[22m\u001b[39m to `C:\\Users\\Chris\\Documents\\AMO-single\\Project.toml`\n",
      "\u001b[32m\u001b[1m  No Changes\u001b[22m\u001b[39m to `C:\\Users\\Chris\\Documents\\AMO-single\\Manifest.toml`\n",
      "\u001b[32m\u001b[1m    Building\u001b[22m\u001b[39m CPLEX → `C:\\Users\\Chris\\.julia\\scratchspaces\\44cfe95a-1eb2-52ea-b672-e2afdf69b78f\\2b1c524b1c9dc3ef283761737273a93470a5caeb\\build.log`\n"
     ]
    }
   ],
   "source": [
    "# On Windows, this might be\n",
    "ENV[\"CPLEX_STUDIO_BINARIES\"] = \"C:\\\\Program Files\\\\IBM\\\\ILOG\\\\CPLEX_Studio_Community2211\\\\cplex\\\\bin\\\\x64_win64\"\n",
    "# On OSX, this might be\n",
    "\n",
    "import Pkg\n",
    "Pkg.add(\"CPLEX\")\n",
    "Pkg.build(\"CPLEX\")"
   ]
  },
  {
   "cell_type": "code",
   "execution_count": 15,
   "metadata": {
    "collapsed": true
   },
   "outputs": [
    {
     "name": "stderr",
     "output_type": "stream",
     "text": [
      "\u001b[32m\u001b[1m   Resolving\u001b[22m\u001b[39m package versions...\n",
      "\u001b[32m\u001b[1m   Installed\u001b[22m\u001b[39m GR_jll ─────────────── v0.71.7+0\n",
      "\u001b[32m\u001b[1m   Installed\u001b[22m\u001b[39m JpegTurbo_jll ──────── v2.1.91+0\n",
      "\u001b[32m\u001b[1m   Installed\u001b[22m\u001b[39m FFTW ───────────────── v1.6.0\n",
      "\u001b[32m\u001b[1m   Installed\u001b[22m\u001b[39m ImageSegmentation ──── v1.8.0\n",
      "\u001b[32m\u001b[1m   Installed\u001b[22m\u001b[39m StatsFuns ──────────── v1.3.0\n",
      "\u001b[32m\u001b[1m   Installed\u001b[22m\u001b[39m JpegTurbo ──────────── v0.1.2\n",
      "\u001b[32m\u001b[1m   Installed\u001b[22m\u001b[39m MutableArithmetics ─── v1.2.3\n",
      "\u001b[32m\u001b[1m   Installed\u001b[22m\u001b[39m Dualization ────────── v0.5.6\n",
      "\u001b[32m\u001b[1m   Installed\u001b[22m\u001b[39m PDMats ─────────────── v0.11.17\n",
      "\u001b[32m\u001b[1m   Installed\u001b[22m\u001b[39m IrrationalConstants ── v0.2.2\n",
      "\u001b[32m\u001b[1m   Installed\u001b[22m\u001b[39m MUMPS_seq_jll ──────── v500.500.101+0\n",
      "\u001b[32m\u001b[1m   Installed\u001b[22m\u001b[39m FiniteDiff ─────────── v2.18.0\n",
      "\u001b[32m\u001b[1m   Installed\u001b[22m\u001b[39m StaticArrays ───────── v1.5.16\n",
      "\u001b[32m\u001b[1m   Installed\u001b[22m\u001b[39m JLD2 ───────────────── v0.4.31\n",
      "\u001b[32m\u001b[1m   Installed\u001b[22m\u001b[39m DataFrames ─────────── v1.5.0\n",
      "\u001b[32m\u001b[1m   Installed\u001b[22m\u001b[39m SentinelArrays ─────── v1.3.18\n",
      "\u001b[32m\u001b[1m   Installed\u001b[22m\u001b[39m SpecialFunctions ───── v2.2.0\n",
      "\u001b[32m\u001b[1m   Installed\u001b[22m\u001b[39m NaNMath ────────────── v1.0.2\n",
      "\u001b[32m\u001b[1m   Installed\u001b[22m\u001b[39m Ipopt_jll ──────────── v300.1400.403+1\n",
      "\u001b[32m\u001b[1m   Installed\u001b[22m\u001b[39m GR ─────────────────── v0.71.7\n",
      "\u001b[32m\u001b[1m   Installed\u001b[22m\u001b[39m JuMP ───────────────── v1.1.1\n",
      "\u001b[32m\u001b[1m   Installed\u001b[22m\u001b[39m DiffRules ──────────── v1.13.0\n",
      "\u001b[32m\u001b[1m   Installed\u001b[22m\u001b[39m CPLEX ──────────────── v0.9.7\n",
      "\u001b[32m\u001b[1m   Installed\u001b[22m\u001b[39m MathOptInterface ───── v1.13.1\n",
      "\u001b[32m\u001b[1m   Installed\u001b[22m\u001b[39m Plots ──────────────── v1.38.6\n",
      "\u001b[32m\u001b[1m   Installed\u001b[22m\u001b[39m Conda ──────────────── v1.8.0\n",
      "\u001b[32m\u001b[1m   Installed\u001b[22m\u001b[39m Zstd_jll ───────────── v1.5.4+0\n",
      "\u001b[32m\u001b[1m   Installed\u001b[22m\u001b[39m ImageShow ──────────── v0.3.7\n",
      "\u001b[32m\u001b[1m   Installed\u001b[22m\u001b[39m Parsers ────────────── v2.5.8\n",
      "\u001b[32m\u001b[1m   Installed\u001b[22m\u001b[39m ConstructionBase ───── v1.5.1\n",
      "\u001b[32m\u001b[1m   Installed\u001b[22m\u001b[39m ArrayInterface ─────── v7.2.0\n",
      "\u001b[32m\u001b[1m   Installed\u001b[22m\u001b[39m LogExpFunctions ────── v0.3.23\n",
      "\u001b[32m\u001b[1m   Installed\u001b[22m\u001b[39m GPUArraysCore ──────── v0.1.4\n",
      "\u001b[32m\u001b[1m   Installed\u001b[22m\u001b[39m Rotations ──────────── v1.4.0\n",
      "\u001b[32m\u001b[1m   Installed\u001b[22m\u001b[39m Graphs ─────────────── v1.8.0\n",
      "\u001b[32m\u001b[1m   Installed\u001b[22m\u001b[39m MultivariateStats ──── v0.10.1\n",
      "\u001b[32m\u001b[1m   Installed\u001b[22m\u001b[39m Adapt ──────────────── v3.6.1\n",
      "\u001b[32m\u001b[1m   Installed\u001b[22m\u001b[39m Mocking ────────────── v0.7.6\n",
      "\u001b[32m\u001b[1m   Installed\u001b[22m\u001b[39m OpenSSL_jll ────────── v1.1.20+0\n",
      "\u001b[32m\u001b[1m   Installed\u001b[22m\u001b[39m Ipopt ──────────────── v1.2.0\n",
      "\u001b[32m\u001b[1m   Installed\u001b[22m\u001b[39m URIs ───────────────── v1.4.2\n",
      "\u001b[32m\u001b[1m   Installed\u001b[22m\u001b[39m SimpleWeightedGraphs ─ v1.3.0\n",
      "\u001b[32m\u001b[1m   Installed\u001b[22m\u001b[39m QuadGK ─────────────── v2.8.1\n",
      "\u001b[32m\u001b[1m   Installed\u001b[22m\u001b[39m BilevelJuMP ────────── v0.5.2\n",
      "\u001b[32m\u001b[1m   Installed\u001b[22m\u001b[39m ForwardDiff ────────── v0.10.35\n",
      "\u001b[32m\u001b[1m   Installed\u001b[22m\u001b[39m Polyhedra ──────────── v0.7.6\n",
      "\u001b[32m\u001b[1m   Installed\u001b[22m\u001b[39m GenericLinearAlgebra ─ v0.3.6\n",
      "\u001b[32m\u001b[1m   Installed\u001b[22m\u001b[39m Complementarity ────── v0.8.4\n",
      "\u001b[32m\u001b[1m   Installed\u001b[22m\u001b[39m ChangesOfVariables ─── v0.1.6\n",
      "\u001b[32m\u001b[1m   Installed\u001b[22m\u001b[39m Distributions ──────── v0.25.86\n",
      "\u001b[32m\u001b[1m    Updating\u001b[22m\u001b[39m `C:\\Users\\Chris\\Documents\\AMO-single\\Project.toml`\n",
      " \u001b[90m [485130c0] \u001b[39m\u001b[92m+ BilevelJuMP v0.5.2\u001b[39m\n",
      " \u001b[90m [a076750e] \u001b[39m\u001b[93m↑ CPLEX v0.9.6 ⇒ v0.9.7\u001b[39m\n",
      "\u001b[32m⌃\u001b[39m\u001b[90m [a9b2a840] \u001b[39m\u001b[95m↓ Complementarity v0.9.0 ⇒ v0.8.4\u001b[39m\n",
      " \u001b[90m [a93c6f00] \u001b[39m\u001b[93m↑ DataFrames v1.4.4 ⇒ v1.5.0\u001b[39m\n",
      " \u001b[90m [31c24e10] \u001b[39m\u001b[93m↑ Distributions v0.25.80 ⇒ v0.25.86\u001b[39m\n",
      " \u001b[90m [87dc4568] \u001b[39m\u001b[93m↑ HiGHS v1.4.2 ⇒ v1.4.3\u001b[39m\n",
      " \u001b[90m [b6b21f68] \u001b[39m\u001b[93m↑ Ipopt v1.1.0 ⇒ v1.2.0\u001b[39m\n",
      "\u001b[33m⌅\u001b[39m\u001b[90m [4076af6c] \u001b[39m\u001b[95m↓ JuMP v1.7.0 ⇒ v1.1.1\u001b[39m\n",
      " \u001b[90m [b8f27783] \u001b[39m\u001b[93m↑ MathOptInterface v1.11.5 ⇒ v1.13.1\u001b[39m\n",
      " \u001b[90m [91a5bcdd] \u001b[39m\u001b[93m↑ Plots v1.38.2 ⇒ v1.38.6\u001b[39m\n",
      " \u001b[90m [67491407] \u001b[39m\u001b[93m↑ Polyhedra v0.7.5 ⇒ v0.7.6\u001b[39m\n",
      "\u001b[32m\u001b[1m    Updating\u001b[22m\u001b[39m `C:\\Users\\Chris\\Documents\\AMO-single\\Manifest.toml`\n",
      " \u001b[90m [79e6a3ab] \u001b[39m\u001b[93m↑ Adapt v3.5.0 ⇒ v3.6.1\u001b[39m\n",
      " \u001b[90m [4fba245c] \u001b[39m\u001b[92m+ ArrayInterface v7.2.0\u001b[39m\n",
      " \u001b[90m [30b0a656] \u001b[39m\u001b[91m- ArrayInterfaceCore v0.1.29\u001b[39m\n",
      " \u001b[90m [485130c0] \u001b[39m\u001b[92m+ BilevelJuMP v0.5.2\u001b[39m\n",
      " \u001b[90m [a076750e] \u001b[39m\u001b[93m↑ CPLEX v0.9.6 ⇒ v0.9.7\u001b[39m\n",
      " \u001b[90m [9e997f8a] \u001b[39m\u001b[93m↑ ChangesOfVariables v0.1.5 ⇒ v0.1.6\u001b[39m\n",
      " \u001b[90m [34da2185] \u001b[39m\u001b[93m↑ Compat v4.5.0 ⇒ v4.6.0\u001b[39m\n",
      "\u001b[32m⌃\u001b[39m\u001b[90m [a9b2a840] \u001b[39m\u001b[95m↓ Complementarity v0.9.0 ⇒ v0.8.4\u001b[39m\n",
      " \u001b[90m [8f4d0f93] \u001b[39m\u001b[93m↑ Conda v1.7.0 ⇒ v1.8.0\u001b[39m\n",
      " \u001b[90m [187b0558] \u001b[39m\u001b[93m↑ ConstructionBase v1.4.1 ⇒ v1.5.1\u001b[39m\n",
      " \u001b[90m [a93c6f00] \u001b[39m\u001b[93m↑ DataFrames v1.4.4 ⇒ v1.5.0\u001b[39m\n",
      " \u001b[90m [b552c78f] \u001b[39m\u001b[93m↑ DiffRules v1.12.2 ⇒ v1.13.0\u001b[39m\n",
      " \u001b[90m [31c24e10] \u001b[39m\u001b[93m↑ Distributions v0.25.80 ⇒ v0.25.86\u001b[39m\n",
      " \u001b[90m [191a621a] \u001b[39m\u001b[92m+ Dualization v0.5.6\u001b[39m\n",
      " \u001b[90m [7a1cc6ca] \u001b[39m\u001b[93m↑ FFTW v1.5.0 ⇒ v1.6.0\u001b[39m\n",
      " \u001b[90m [6a86dc24] \u001b[39m\u001b[93m↑ FiniteDiff v2.17.0 ⇒ v2.18.0\u001b[39m\n",
      " \u001b[90m [f6369f11] \u001b[39m\u001b[93m↑ ForwardDiff v0.10.34 ⇒ v0.10.35\u001b[39m\n",
      " \u001b[90m [46192b85] \u001b[39m\u001b[93m↑ GPUArraysCore v0.1.3 ⇒ v0.1.4\u001b[39m\n",
      " \u001b[90m [28b8d3ca] \u001b[39m\u001b[93m↑ GR v0.71.5 ⇒ v0.71.7\u001b[39m\n",
      " \u001b[90m [14197337] \u001b[39m\u001b[93m↑ GenericLinearAlgebra v0.3.5 ⇒ v0.3.6\u001b[39m\n",
      " \u001b[90m [86223c79] \u001b[39m\u001b[93m↑ Graphs v1.7.4 ⇒ v1.8.0\u001b[39m\n",
      " \u001b[90m [87dc4568] \u001b[39m\u001b[93m↑ HiGHS v1.4.2 ⇒ v1.4.3\u001b[39m\n",
      " \u001b[90m [80713f31] \u001b[39m\u001b[93m↑ ImageSegmentation v1.7.0 ⇒ v1.8.0\u001b[39m\n",
      " \u001b[90m [4e3cecfd] \u001b[39m\u001b[93m↑ ImageShow v0.3.6 ⇒ v0.3.7\u001b[39m\n",
      " \u001b[90m [b6b21f68] \u001b[39m\u001b[93m↑ Ipopt v1.1.0 ⇒ v1.2.0\u001b[39m\n",
      " \u001b[90m [92d709cd] \u001b[39m\u001b[93m↑ IrrationalConstants v0.1.1 ⇒ v0.2.2\u001b[39m\n",
      " \u001b[90m [033835bb] \u001b[39m\u001b[93m↑ JLD2 v0.4.30 ⇒ v0.4.31\u001b[39m\n",
      " \u001b[90m [b835a17e] \u001b[39m\u001b[93m↑ JpegTurbo v0.1.1 ⇒ v0.1.2\u001b[39m\n",
      "\u001b[33m⌅\u001b[39m\u001b[90m [4076af6c] \u001b[39m\u001b[95m↓ JuMP v1.7.0 ⇒ v1.1.1\u001b[39m\n",
      " \u001b[90m [2ab3a3ac] \u001b[39m\u001b[93m↑ LogExpFunctions v0.3.20 ⇒ v0.3.23\u001b[39m\n",
      " \u001b[90m [b8f27783] \u001b[39m\u001b[93m↑ MathOptInterface v1.11.5 ⇒ v1.13.1\u001b[39m\n",
      " \u001b[90m [78c3b35d] \u001b[39m\u001b[93m↑ Mocking v0.7.5 ⇒ v0.7.6\u001b[39m\n",
      " \u001b[90m [6f286f6a] \u001b[39m\u001b[93m↑ MultivariateStats v0.10.0 ⇒ v0.10.1\u001b[39m\n",
      " \u001b[90m [d8a4904e] \u001b[39m\u001b[93m↑ MutableArithmetics v1.1.0 ⇒ v1.2.3\u001b[39m\n",
      " \u001b[90m [77ba4419] \u001b[39m\u001b[93m↑ NaNMath v1.0.1 ⇒ v1.0.2\u001b[39m\n",
      " \u001b[90m [6fe1bfb0] \u001b[39m\u001b[93m↑ OffsetArrays v1.12.8 ⇒ v1.12.9\u001b[39m\n",
      " \u001b[90m [90014a1f] \u001b[39m\u001b[93m↑ PDMats v0.11.16 ⇒ v0.11.17\u001b[39m\n",
      " \u001b[90m [69de0a69] \u001b[39m\u001b[93m↑ Parsers v2.5.3 ⇒ v2.5.8\u001b[39m\n",
      " \u001b[90m [995b91a9] \u001b[39m\u001b[93m↑ PlotUtils v1.3.3 ⇒ v1.3.4\u001b[39m\n",
      " \u001b[90m [91a5bcdd] \u001b[39m\u001b[93m↑ Plots v1.38.2 ⇒ v1.38.6\u001b[39m\n",
      " \u001b[90m [67491407] \u001b[39m\u001b[93m↑ Polyhedra v0.7.5 ⇒ v0.7.6\u001b[39m\n",
      " \u001b[90m [1fd47b50] \u001b[39m\u001b[93m↑ QuadGK v2.7.0 ⇒ v2.8.1\u001b[39m\n",
      " \u001b[90m [79098fc4] \u001b[39m\u001b[93m↑ Rmath v0.7.0 ⇒ v0.7.1\u001b[39m\n",
      " \u001b[90m [6038ab10] \u001b[39m\u001b[93m↑ Rotations v1.3.4 ⇒ v1.4.0\u001b[39m\n",
      " \u001b[90m [91c51154] \u001b[39m\u001b[93m↑ SentinelArrays v1.3.17 ⇒ v1.3.18\u001b[39m\n",
      " \u001b[90m [47aef6b3] \u001b[39m\u001b[93m↑ SimpleWeightedGraphs v1.2.2 ⇒ v1.3.0\u001b[39m\n",
      " \u001b[90m [276daf66] \u001b[39m\u001b[93m↑ SpecialFunctions v2.1.7 ⇒ v2.2.0\u001b[39m\n",
      " \u001b[90m [90137ffa] \u001b[39m\u001b[93m↑ StaticArrays v1.5.12 ⇒ v1.5.16\u001b[39m\n",
      " \u001b[90m [4c63d2b9] \u001b[39m\u001b[93m↑ StatsFuns v1.1.1 ⇒ v1.3.0\u001b[39m\n",
      " \u001b[90m [5c2747f8] \u001b[39m\u001b[93m↑ URIs v1.4.1 ⇒ v1.4.2\u001b[39m\n",
      " \u001b[90m [d2c73de3] \u001b[39m\u001b[93m↑ GR_jll v0.71.5+0 ⇒ v0.71.7+0\u001b[39m\n",
      " \u001b[90m [8fd58aa0] \u001b[39m\u001b[93m↑ HiGHS_jll v1.4.1+0 ⇒ v1.4.2+0\u001b[39m\n",
      "\u001b[33m⌅\u001b[39m\u001b[90m [9cc047cb] \u001b[39m\u001b[93m↑ Ipopt_jll v300.1400.400+0 ⇒ v300.1400.403+1\u001b[39m\n",
      " \u001b[90m [aacddb02] \u001b[39m\u001b[93m↑ JpegTurbo_jll v2.1.2+0 ⇒ v2.1.91+0\u001b[39m\n",
      " \u001b[90m [d7ed1dd3] \u001b[39m\u001b[93m↑ MUMPS_seq_jll v5.4.1+0 ⇒ v500.500.101+0\u001b[39m\n",
      " \u001b[90m [458c3c95] \u001b[39m\u001b[93m↑ OpenSSL_jll v1.1.19+0 ⇒ v1.1.20+0\u001b[39m\n",
      " \u001b[90m [f50d1b31] \u001b[39m\u001b[93m↑ Rmath_jll v0.3.0+0 ⇒ v0.4.0+0\u001b[39m\n",
      " \u001b[90m [3161d3a3] \u001b[39m\u001b[93m↑ Zstd_jll v1.5.2+0 ⇒ v1.5.4+0\u001b[39m\n",
      "\u001b[36m\u001b[1m        Info\u001b[22m\u001b[39m Packages marked with \u001b[32m⌃\u001b[39m and \u001b[33m⌅\u001b[39m have new versions available, but those with \u001b[33m⌅\u001b[39m are restricted by compatibility constraints from upgrading. To see why use `status --outdated -m`\n",
      "\u001b[32m\u001b[1m    Building\u001b[22m\u001b[39m Conda → `C:\\Users\\Chris\\.julia\\scratchspaces\\44cfe95a-1eb2-52ea-b672-e2afdf69b78f\\e32a90da027ca45d84678b826fffd3110bb3fc90\\build.log`\n",
      "\u001b[32m\u001b[1m    Building\u001b[22m\u001b[39m CPLEX → `C:\\Users\\Chris\\.julia\\scratchspaces\\44cfe95a-1eb2-52ea-b672-e2afdf69b78f\\dc661013f3c297d7d36fee1632af63d37e3f7518\\build.log`\n",
      "\u001b[32m\u001b[1mPrecompiling\u001b[22m\u001b[39m project...\n",
      "\u001b[32m  ✓ \u001b[39m\u001b[90mURIs\u001b[39m\n",
      "\u001b[32m  ✓ \u001b[39m\u001b[90mPDMats\u001b[39m\n",
      "\u001b[33m  ✓ \u001b[39m\u001b[90mIrrationalConstants\u001b[39m\n",
      "\u001b[33m  ✓ \u001b[39m\u001b[90mNaNMath\u001b[39m\n",
      "\u001b[32m  ✓ \u001b[39m\u001b[90mAdapt\u001b[39m\n",
      "\u001b[32m  ✓ \u001b[39m\u001b[90mSentinelArrays\u001b[39m\n",
      "\u001b[32m  ✓ \u001b[39m\u001b[90mConstructionBase\u001b[39m\n",
      "\u001b[32m  ✓ \u001b[39m\u001b[90mMocking\u001b[39m\n",
      "\u001b[33m  ✓ \u001b[39m\u001b[90mChangesOfVariables\u001b[39m\n",
      "\u001b[32m  ✓ \u001b[39m\u001b[90mOpenSSL_jll\u001b[39m\n",
      "\u001b[32m  ✓ \u001b[39m\u001b[90mRmath_jll\u001b[39m\n",
      "\u001b[33m  ✓ \u001b[39m\u001b[90mMutableArithmetics\u001b[39m\n",
      "\u001b[32m  ✓ \u001b[39m\u001b[90mMUMPS_seq_jll\u001b[39m\n",
      "\u001b[32m  ✓ \u001b[39m\u001b[90mJpegTurbo_jll\u001b[39m\n",
      "\u001b[32m  ✓ \u001b[39m\u001b[90mZstd_jll\u001b[39m\n",
      "\u001b[32m  ✓ \u001b[39m\u001b[90mQuadGK\u001b[39m\n",
      "\u001b[32m  ✓ \u001b[39m\u001b[90mGenericLinearAlgebra\u001b[39m\n",
      "\u001b[33m  ✓ \u001b[39m\u001b[90mStaticArrays\u001b[39m\n",
      "\u001b[32m  ✓ \u001b[39m\u001b[90mGraphics\u001b[39m\n",
      "\u001b[32m  ✓ \u001b[39m\u001b[90mGPUArraysCore\u001b[39m\n",
      "\u001b[32m  ✓ \u001b[39m\u001b[90mArrayInterface\u001b[39m\n",
      "\u001b[32m  ✓ \u001b[39m\u001b[90mOffsetArrays\u001b[39m\n",
      "\u001b[32m  ✓ \u001b[39m\u001b[90mFFTW\u001b[39m\n",
      "\u001b[32m  ✓ \u001b[39m\u001b[90mTableOperations\u001b[39m\n",
      "\u001b[32m  ✓ \u001b[39m\u001b[90mSetfield\u001b[39m\n",
      "\u001b[33m  ✓ \u001b[39m\u001b[90mLogExpFunctions\u001b[39m\n",
      "\u001b[32m  ✓ \u001b[39m\u001b[90mOpenSSL\u001b[39m\n",
      "\u001b[32m  ✓ \u001b[39m\u001b[90mFFMPEG_jll\u001b[39m\n",
      "\u001b[32m  ✓ \u001b[39m\u001b[90mQt5Base_jll\u001b[39m\n",
      "\u001b[32m  ✓ \u001b[39m\u001b[90mRmath\u001b[39m\n",
      "\u001b[32m  ✓ \u001b[39m\u001b[90mIpopt_jll\u001b[39m\n",
      "\u001b[32m  ✓ \u001b[39m\u001b[90mlibsixel_jll\u001b[39m\n",
      "\u001b[32m  ✓ \u001b[39m\u001b[90mLibtiff_jll\u001b[39m\n",
      "\u001b[32m  ✓ \u001b[39m\u001b[90mJLD2\u001b[39m\n",
      "\u001b[33m  ✓ \u001b[39m\u001b[90mParsers\u001b[39m\n",
      "\u001b[32m  ✓ \u001b[39m\u001b[90mArnoldiMethod\u001b[39m\n",
      "\u001b[32m  ✓ \u001b[39m\u001b[90mCoordinateTransformations\u001b[39m\n",
      "\u001b[32m  ✓ \u001b[39m\u001b[90mRotations\u001b[39m\n",
      "\u001b[32m  ✓ \u001b[39m\u001b[90mStructArrays\u001b[39m\n",
      "\u001b[32m  ✓ \u001b[39m\u001b[90mTiledIteration\u001b[39m\n",
      "\u001b[32m  ✓ \u001b[39m\u001b[90mNearestNeighbors\u001b[39m\n",
      "\u001b[32m  ✓ \u001b[39m\u001b[90mRegionTrees\u001b[39m\n",
      "\u001b[32m  ✓ \u001b[39m\u001b[90mCatIndices\u001b[39m\n",
      "\u001b[32m  ✓ \u001b[39m\u001b[90mStackViews\u001b[39m\n",
      "\u001b[32m  ✓ \u001b[39m\u001b[90mPaddedViews\u001b[39m\n",
      "\u001b[32m  ✓ \u001b[39m\u001b[90mFFTViews\u001b[39m\n",
      "\u001b[32m  ✓ \u001b[39m\u001b[90mFiniteDiff\u001b[39m\n",
      "\u001b[32m  ✓ \u001b[39m\u001b[90mStatsBase\u001b[39m\n",
      "\u001b[32m  ✓ \u001b[39m\u001b[90mInterpolations\u001b[39m\n",
      "\u001b[32m  ✓ \u001b[39m\u001b[90mFFMPEG\u001b[39m\n",
      "\u001b[32m  ✓ \u001b[39m\u001b[90mImageMagick_jll\u001b[39m\n",
      "\u001b[32m  ✓ \u001b[39m\u001b[90mGR_jll\u001b[39m\n",
      "\u001b[33m  ✓ \u001b[39m\u001b[90mSpecialFunctions\u001b[39m\n",
      "\u001b[32m  ✓ \u001b[39m\u001b[90mHTTP\u001b[39m\n",
      "\u001b[32m  ✓ \u001b[39m\u001b[90mInlineStrings\u001b[39m\n",
      "\u001b[32m  ✓ \u001b[39m\u001b[90mMosaicViews\u001b[39m\n",
      "\u001b[33m  ✓ \u001b[39m\u001b[90mJSON\u001b[39m\n",
      "\u001b[32m  ✓ \u001b[39m\u001b[90mMultivariateStats\u001b[39m\n",
      "\u001b[32m  ✓ \u001b[39mClustering\n",
      "\u001b[32m  ✓ \u001b[39m\u001b[90mDualNumbers\u001b[39m\n",
      "\u001b[33m  ✓ \u001b[39m\u001b[90mDiffRules\u001b[39m\n",
      "\u001b[32m  ✓ \u001b[39m\u001b[90mGraphs\u001b[39m\n",
      "\u001b[32m  ✓ \u001b[39m\u001b[90mDataDeps\u001b[39m\n",
      "\u001b[32m  ✓ \u001b[39m\u001b[90mColorVectorSpace\u001b[39m\n",
      "\u001b[32m  ✓ \u001b[39m\u001b[90mWebSockets\u001b[39m\n",
      "\u001b[32m  ✓ \u001b[39m\u001b[90mGeometryBasics\u001b[39m\n",
      "\u001b[32m  ✓ \u001b[39m\u001b[90mWeakRefStrings\u001b[39m\n",
      "\u001b[32m  ✓ \u001b[39m\u001b[90mAssetRegistry\u001b[39m\n",
      "\u001b[33m  ✓ \u001b[39m\u001b[90mConda\u001b[39m\n",
      "\u001b[33m  ✓ \u001b[39mBenchmarkTools\n",
      "\u001b[32m  ✓ \u001b[39m\u001b[90mHypergeometricFunctions\u001b[39m\n",
      "\u001b[32m  ✓ \u001b[39m\u001b[90mTimeZones\u001b[39m\n",
      "\u001b[32m  ✓ \u001b[39m\u001b[90mGR\u001b[39m\n",
      "\u001b[32m  ✓ \u001b[39m\u001b[90mMetaGraphs\u001b[39m\n",
      "\u001b[32m  ✓ \u001b[39m\u001b[90mSimpleWeightedGraphs\u001b[39m\n",
      "\u001b[33m  ✓ \u001b[39m\u001b[90mForwardDiff\u001b[39m\n",
      "\u001b[32m  ✓ \u001b[39m\u001b[90mColorSchemes\u001b[39m\n",
      "\u001b[32m  ✓ \u001b[39m\u001b[90mWebIO\u001b[39m\n",
      "\u001b[32m  ✓ \u001b[39m\u001b[90mMux\u001b[39m\n",
      "\u001b[33m  ✓ \u001b[39mIJulia\n",
      "\u001b[32m  ✓ \u001b[39mCSV\n",
      "\u001b[32m  ✓ \u001b[39m\u001b[90mStatsFuns\u001b[39m\n",
      "\u001b[32m  ✓ \u001b[39m\u001b[90mNLSolversBase\u001b[39m\n",
      "\u001b[32m  ✓ \u001b[39m\u001b[90mTiffImages\u001b[39m\n",
      "\u001b[32m  ✓ \u001b[39m\u001b[90mPlotlyBase\u001b[39m\n",
      "\u001b[32m  ✓ \u001b[39m\u001b[90mImageCore\u001b[39m\n",
      "\u001b[32m  ✓ \u001b[39m\u001b[90mJSExpr\u001b[39m\n",
      "\u001b[32m  ✓ \u001b[39mDataFrames\n",
      "\u001b[32m  ✓ \u001b[39m\u001b[90mPlotUtils\u001b[39m\n",
      "\u001b[32m  ✓ \u001b[39m\u001b[90mLineSearches\u001b[39m\n",
      "\u001b[32m  ✓ \u001b[39m\u001b[90mImageMorphology\u001b[39m\n",
      "\u001b[32m  ✓ \u001b[39mDistributions\n",
      "\u001b[32m  ✓ \u001b[39m\u001b[90mImageBase\u001b[39m\n",
      "\u001b[32m  ✓ \u001b[39m\u001b[90mJpegTurbo\u001b[39m\n",
      "\u001b[32m  ✓ \u001b[39m\u001b[90mImageMagick\u001b[39m\n",
      "\u001b[32m  ✓ \u001b[39m\u001b[90mSixel\u001b[39m\n",
      "\u001b[32m  ✓ \u001b[39m\u001b[90mBlink\u001b[39m\n",
      "\u001b[32m  ✓ \u001b[39m\u001b[90mPNGFiles\u001b[39m\n",
      "\u001b[32m  ✓ \u001b[39m\u001b[90mPlotThemes\u001b[39m\n",
      "\u001b[32m  ✓ \u001b[39m\u001b[90mNLsolve\u001b[39m\n",
      "\u001b[32m  ✓ \u001b[39m\u001b[90mRData\u001b[39m\n",
      "\u001b[32m  ✓ \u001b[39m\u001b[90mRecipesPipeline\u001b[39m\n",
      "\u001b[32m  ✓ \u001b[39m\u001b[90mImageDistances\u001b[39m\n",
      "\u001b[32m  ✓ \u001b[39m\u001b[90mKernelDensity\u001b[39m\n",
      "\u001b[32m  ✓ \u001b[39m\u001b[90mImageAxes\u001b[39m\n",
      "\u001b[32m  ✓ \u001b[39m\u001b[90mImageShow\u001b[39m\n",
      "\u001b[32m  ✓ \u001b[39m\u001b[90mImageTransformations\u001b[39m\n",
      "\u001b[32m  ✓ \u001b[39mPlotlyJS\n",
      "\u001b[32m  ✓ \u001b[39mRDatasets\n",
      "\u001b[32m  ✓ \u001b[39m\u001b[90mImageMetadata\u001b[39m\n",
      "\u001b[32m  ✓ \u001b[39m\u001b[90mImageContrastAdjustment\u001b[39m\n",
      "\u001b[32m  ✓ \u001b[39m\u001b[90mNetpbm\u001b[39m\n",
      "\u001b[32m  ✓ \u001b[39m\u001b[90mImageIO\u001b[39m\n",
      "\u001b[33m  ✓ \u001b[39mMathOptInterface\n",
      "\u001b[32m  ✓ \u001b[39m\u001b[90mImageFiltering\u001b[39m\n",
      "\u001b[33m  ✓ \u001b[39mCPLEX\n",
      "\u001b[32m  ✓ \u001b[39m\u001b[90mPATHSolver\u001b[39m\n",
      "\u001b[32m  ✓ \u001b[39mHiGHS\n",
      "\u001b[32m  ✓ \u001b[39m\u001b[90mImageSegmentation\u001b[39m\n",
      "\u001b[32m  ✓ \u001b[39mIpopt\n",
      "\u001b[32m  ✓ \u001b[39mJuMP\n",
      "\u001b[32m  ✓ \u001b[39mPlots\n",
      "\u001b[32m  ✓ \u001b[39m\u001b[90mImageQualityIndexes\u001b[39m\n",
      "\u001b[32m  ✓ \u001b[39m\u001b[90mDualization\u001b[39m\n",
      "\u001b[32m  ✓ \u001b[39mPolyhedra\n",
      "\u001b[32m  ✓ \u001b[39mComplementarity\n",
      "\u001b[32m  ✓ \u001b[39mBilevelJuMP\n",
      "\u001b[32m  ✓ \u001b[39mImages\n",
      "\u001b[32m  ✓ \u001b[39mStatsPlots\n",
      "  129 dependencies successfully precompiled in 432 seconds. 190 already precompiled.\n",
      "  \u001b[33m16\u001b[39m dependencies precompiled but different versions are currently loaded. Restart julia to access the new versions\n"
     ]
    }
   ],
   "source": [
    "Pkg.add(\"BilevelJuMP\")"
   ]
  },
  {
   "cell_type": "code",
   "execution_count": 3,
   "metadata": {},
   "outputs": [
    {
     "name": "stderr",
     "output_type": "stream",
     "text": [
      "\u001b[36m\u001b[1m[ \u001b[22m\u001b[39m\u001b[36m\u001b[1mInfo: \u001b[22m\u001b[39mPrecompiling BilevelJuMP [485130c0-026e-11ea-0f1a-6992cd14145c]\n",
      "WARNING: method definition for set_dual_model_sense at C:\\Users\\Chris\\.julia\\packages\\Dualization\\cjSlF\\src\\objective_coefficients.jl:11 declares type variable T but does not use it.\n"
     ]
    }
   ],
   "source": [
    "using CPLEX\n",
    "using BilevelJuMP\n",
    "using JuMP\n",
    "using BenchmarkTools"
   ]
  },
  {
   "cell_type": "markdown",
   "metadata": {},
   "source": [
    "KKT Conditions used in this case   \n",
    "For convex problems - at the same time global optimum\n",
    "  \n",
    "KKT can be local optima  \n",
    "KKT first order conditions"
   ]
  },
  {
   "cell_type": "code",
   "execution_count": 4,
   "metadata": {},
   "outputs": [
    {
     "data": {
      "text/plain": [
       "An Abstract JuMP Model\n",
       "Feasibility problem with:\n",
       "Variables: 0\n",
       "Upper Constraints: 0\n",
       "Lower Constraints: 0\n",
       "Bilevel Model\n",
       "Solution method: BilevelJuMP.SOS1Mode{Float64}()\n",
       "Solver name: CPLEX"
      ]
     },
     "execution_count": 4,
     "metadata": {},
     "output_type": "execute_result"
    }
   ],
   "source": [
    "bm = BilevelModel(CPLEX.Optimizer)"
   ]
  },
  {
   "cell_type": "code",
   "execution_count": 25,
   "metadata": {},
   "outputs": [
    {
     "name": "stdout",
     "output_type": "stream",
     "text": [
      "Version identifier: 22.1.1.0 | 2022-11-26 | 9160aff4d\r\n",
      "MIP Presolve eliminated 2 redundant SOS constraints.\r\n",
      "MIP Presolve eliminated 1 redundant SOS constraints.\r\n",
      "Tried aggregator 2 times.\r\n",
      "MIP Presolve eliminated 6 rows and 11 columns.\r\n",
      "Aggregator did 1 substitutions.\r\n",
      "All rows and columns eliminated.\r\n",
      "Presolve time = 0.02 sec. (0.01 ticks)\r\n",
      "\r\n",
      "Root node processing (before b&c):\r\n",
      "  Real time             =    0.03 sec. (0.02 ticks)\r\n",
      "Parallel b&c, 8 threads:\r\n",
      "  Real time             =    0.00 sec. (0.00 ticks)\r\n",
      "  Sync time (average)   =    0.00 sec.\r\n",
      "  Wait time (average)   =    0.00 sec.\r\n",
      "                          ------------\r\n",
      "Total (root+branch&cut) =    0.03 sec. (0.02 ticks)\r\n"
     ]
    }
   ],
   "source": [
    "unregister(bm, :x)\n",
    "unregister(bm, :y)\n",
    "\n",
    "#Variables\n",
    "@variable(Upper(bm), 0 <= x <= 4)\n",
    "@variable(Lower(bm), y >= 0)\n",
    "\n",
    "#Upper level \n",
    "@constraint(Upper(bm), 2x+y <= 8)\n",
    "@objective(Upper(bm), Min, x+4y)\n",
    "\n",
    "#Lower level\n",
    "@constraint(Lower(bm), x+y <= 7)\n",
    "@objective(Lower(bm), Min, -x-y)\n",
    "\n",
    "optimize!(bm)"
   ]
  },
  {
   "cell_type": "code",
   "execution_count": 26,
   "metadata": {},
   "outputs": [
    {
     "name": "stdout",
     "output_type": "stream",
     "text": [
      "value(x) = 1.0\n",
      "value(y) = 6.0\n"
     ]
    },
    {
     "data": {
      "text/plain": [
       "6.0"
      ]
     },
     "execution_count": 26,
     "metadata": {},
     "output_type": "execute_result"
    }
   ],
   "source": [
    "@show value(x)\n",
    "@show value(y)"
   ]
  },
  {
   "cell_type": "markdown",
   "metadata": {},
   "source": [
    "Using other mode in terms of solution speed"
   ]
  },
  {
   "cell_type": "code",
   "execution_count": 30,
   "metadata": {},
   "outputs": [
    {
     "data": {
      "text/plain": [
       "bilevel_fn (generic function with 1 method)"
      ]
     },
     "execution_count": 30,
     "metadata": {},
     "output_type": "execute_result"
    }
   ],
   "source": [
    "function bilevel_fn(; mode = BilevelJuMP.SOS1Mode())\n",
    "    bm = BilevelModel(CPLEX.Optimizer)\n",
    "    set_silent(bm) # uselful for benchmarking\n",
    "\n",
    "    unregister(bm, :x)\n",
    "    unregister(bm, :y)\n",
    "\n",
    "    #Variables\n",
    "    @variable(Upper(bm), 0 <= x <= 4)\n",
    "    @variable(Lower(bm), y >= 0)\n",
    "\n",
    "    #Upper level \n",
    "    @constraint(Upper(bm), 2x+y <= 8)\n",
    "    @objective(Upper(bm), Min, x+4y)\n",
    "\n",
    "    #Lower level\n",
    "    @constraint(Lower(bm), x+y <= 7)\n",
    "    @objective(Lower(bm), Min, -x-y)\n",
    "\n",
    "    optimize!(bm)\n",
    "    \n",
    "    return value(x), value(y)\n",
    "end"
   ]
  },
  {
   "cell_type": "code",
   "execution_count": 31,
   "metadata": {},
   "outputs": [
    {
     "data": {
      "text/plain": [
       "(1.0, 6.0)"
      ]
     },
     "execution_count": 31,
     "metadata": {},
     "output_type": "execute_result"
    }
   ],
   "source": [
    "bilevel_fn()"
   ]
  },
  {
   "cell_type": "code",
   "execution_count": 32,
   "metadata": {},
   "outputs": [
    {
     "data": {
      "text/plain": [
       "BenchmarkTools.Trial: 584 samples with 1 evaluation.\n",
       " Range \u001b[90m(\u001b[39m\u001b[36m\u001b[1mmin\u001b[22m\u001b[39m … \u001b[35mmax\u001b[39m\u001b[90m):  \u001b[39m\u001b[36m\u001b[1m7.124 ms\u001b[22m\u001b[39m … \u001b[35m28.693 ms\u001b[39m  \u001b[90m┊\u001b[39m GC \u001b[90m(\u001b[39mmin … max\u001b[90m): \u001b[39m0.00% … 0.00%\n",
       " Time  \u001b[90m(\u001b[39m\u001b[34m\u001b[1mmedian\u001b[22m\u001b[39m\u001b[90m):     \u001b[39m\u001b[34m\u001b[1m8.255 ms              \u001b[22m\u001b[39m\u001b[90m┊\u001b[39m GC \u001b[90m(\u001b[39mmedian\u001b[90m):    \u001b[39m0.00%\n",
       " Time  \u001b[90m(\u001b[39m\u001b[32m\u001b[1mmean\u001b[22m\u001b[39m ± \u001b[32mσ\u001b[39m\u001b[90m):   \u001b[39m\u001b[32m\u001b[1m8.528 ms\u001b[22m\u001b[39m ± \u001b[32m 1.177 ms\u001b[39m  \u001b[90m┊\u001b[39m GC \u001b[90m(\u001b[39mmean ± σ\u001b[90m):  \u001b[39m0.00% ± 0.00%\n",
       "\n",
       "  \u001b[39m \u001b[39m \u001b[39m \u001b[39m \u001b[39m \u001b[39m \u001b[39m \u001b[39m▂\u001b[39m▃\u001b[39m▇\u001b[39m█\u001b[39m█\u001b[39m▂\u001b[39m▄\u001b[34m▂\u001b[39m\u001b[39m▂\u001b[39m▁\u001b[32m \u001b[39m\u001b[39m▁\u001b[39m \u001b[39m \u001b[39m \u001b[39m \u001b[39m \u001b[39m \u001b[39m \u001b[39m \u001b[39m \u001b[39m \u001b[39m \u001b[39m \u001b[39m \u001b[39m \u001b[39m \u001b[39m \u001b[39m \u001b[39m \u001b[39m \u001b[39m \u001b[39m \u001b[39m \u001b[39m \u001b[39m \u001b[39m \u001b[39m \u001b[39m \u001b[39m \u001b[39m \u001b[39m \u001b[39m \u001b[39m \u001b[39m \u001b[39m \u001b[39m \u001b[39m \u001b[39m \u001b[39m \u001b[39m \u001b[39m \u001b[39m \n",
       "  \u001b[39m▂\u001b[39m▂\u001b[39m▁\u001b[39m▃\u001b[39m▅\u001b[39m▄\u001b[39m█\u001b[39m█\u001b[39m█\u001b[39m█\u001b[39m█\u001b[39m█\u001b[39m█\u001b[39m█\u001b[34m█\u001b[39m\u001b[39m█\u001b[39m█\u001b[32m▇\u001b[39m\u001b[39m█\u001b[39m▇\u001b[39m▇\u001b[39m▆\u001b[39m▅\u001b[39m▅\u001b[39m▆\u001b[39m▅\u001b[39m▄\u001b[39m▅\u001b[39m▅\u001b[39m▄\u001b[39m▄\u001b[39m▄\u001b[39m▄\u001b[39m▃\u001b[39m▄\u001b[39m▄\u001b[39m▃\u001b[39m▃\u001b[39m▂\u001b[39m▂\u001b[39m▁\u001b[39m▂\u001b[39m▃\u001b[39m▂\u001b[39m▁\u001b[39m▁\u001b[39m▁\u001b[39m▂\u001b[39m▁\u001b[39m▂\u001b[39m▂\u001b[39m▂\u001b[39m▁\u001b[39m▁\u001b[39m▁\u001b[39m▂\u001b[39m▂\u001b[39m▂\u001b[39m \u001b[39m▄\n",
       "  7.12 ms\u001b[90m        Histogram: frequency by time\u001b[39m        11.8 ms \u001b[0m\u001b[1m<\u001b[22m\n",
       "\n",
       " Memory estimate\u001b[90m: \u001b[39m\u001b[33m145.02 KiB\u001b[39m, allocs estimate\u001b[90m: \u001b[39m\u001b[33m2903\u001b[39m."
      ]
     },
     "execution_count": 32,
     "metadata": {},
     "output_type": "execute_result"
    }
   ],
   "source": [
    "@benchmark bilevel_fn()"
   ]
  },
  {
   "cell_type": "code",
   "execution_count": 33,
   "metadata": {},
   "outputs": [
    {
     "data": {
      "text/plain": [
       "BenchmarkTools.Trial: 624 samples with 1 evaluation.\n",
       " Range \u001b[90m(\u001b[39m\u001b[36m\u001b[1mmin\u001b[22m\u001b[39m … \u001b[35mmax\u001b[39m\u001b[90m):  \u001b[39m\u001b[36m\u001b[1m7.127 ms\u001b[22m\u001b[39m … \u001b[35m 10.127 ms\u001b[39m  \u001b[90m┊\u001b[39m GC \u001b[90m(\u001b[39mmin … max\u001b[90m): \u001b[39m0.00% … 0.00%\n",
       " Time  \u001b[90m(\u001b[39m\u001b[34m\u001b[1mmedian\u001b[22m\u001b[39m\u001b[90m):     \u001b[39m\u001b[34m\u001b[1m7.913 ms               \u001b[22m\u001b[39m\u001b[90m┊\u001b[39m GC \u001b[90m(\u001b[39mmedian\u001b[90m):    \u001b[39m0.00%\n",
       " Time  \u001b[90m(\u001b[39m\u001b[32m\u001b[1mmean\u001b[22m\u001b[39m ± \u001b[32mσ\u001b[39m\u001b[90m):   \u001b[39m\u001b[32m\u001b[1m7.985 ms\u001b[22m\u001b[39m ± \u001b[32m423.584 μs\u001b[39m  \u001b[90m┊\u001b[39m GC \u001b[90m(\u001b[39mmean ± σ\u001b[90m):  \u001b[39m0.00% ± 0.00%\n",
       "\n",
       "  \u001b[39m \u001b[39m \u001b[39m \u001b[39m \u001b[39m \u001b[39m \u001b[39m \u001b[39m \u001b[39m \u001b[39m \u001b[39m▃\u001b[39m▂\u001b[39m▆\u001b[39m▇\u001b[39m▇\u001b[39m█\u001b[39m \u001b[39m▅\u001b[34m▇\u001b[39m\u001b[32m█\u001b[39m\u001b[39m▁\u001b[39m \u001b[39m \u001b[39m \u001b[39m \u001b[39m▁\u001b[39m \u001b[39m \u001b[39m \u001b[39m \u001b[39m \u001b[39m \u001b[39m \u001b[39m \u001b[39m \u001b[39m \u001b[39m \u001b[39m \u001b[39m \u001b[39m \u001b[39m \u001b[39m \u001b[39m \u001b[39m \u001b[39m \u001b[39m \u001b[39m \u001b[39m \u001b[39m \u001b[39m \u001b[39m \u001b[39m \u001b[39m \u001b[39m \u001b[39m \u001b[39m \u001b[39m \u001b[39m \u001b[39m \u001b[39m \u001b[39m \n",
       "  \u001b[39m▃\u001b[39m▁\u001b[39m▁\u001b[39m▃\u001b[39m▃\u001b[39m▃\u001b[39m▄\u001b[39m▆\u001b[39m▄\u001b[39m▆\u001b[39m█\u001b[39m█\u001b[39m█\u001b[39m█\u001b[39m█\u001b[39m█\u001b[39m█\u001b[39m█\u001b[34m█\u001b[39m\u001b[32m█\u001b[39m\u001b[39m█\u001b[39m█\u001b[39m█\u001b[39m█\u001b[39m▇\u001b[39m█\u001b[39m▅\u001b[39m▆\u001b[39m▅\u001b[39m▄\u001b[39m▃\u001b[39m▄\u001b[39m▄\u001b[39m▃\u001b[39m▃\u001b[39m▂\u001b[39m▃\u001b[39m▃\u001b[39m▂\u001b[39m▃\u001b[39m▂\u001b[39m▂\u001b[39m▁\u001b[39m▁\u001b[39m▂\u001b[39m▃\u001b[39m▂\u001b[39m▃\u001b[39m▂\u001b[39m▃\u001b[39m▁\u001b[39m▁\u001b[39m▂\u001b[39m▂\u001b[39m▂\u001b[39m▂\u001b[39m▁\u001b[39m▂\u001b[39m▂\u001b[39m \u001b[39m▄\n",
       "  7.13 ms\u001b[90m         Histogram: frequency by time\u001b[39m        9.76 ms \u001b[0m\u001b[1m<\u001b[22m\n",
       "\n",
       " Memory estimate\u001b[90m: \u001b[39m\u001b[33m145.02 KiB\u001b[39m, allocs estimate\u001b[90m: \u001b[39m\u001b[33m2903\u001b[39m."
      ]
     },
     "execution_count": 33,
     "metadata": {},
     "output_type": "execute_result"
    }
   ],
   "source": [
    "@benchmark bilevel_fn(mode=BilevelJuMP.IndicatorMode())"
   ]
  },
  {
   "cell_type": "markdown",
   "metadata": {},
   "source": [
    "## Big M Method"
   ]
  },
  {
   "cell_type": "code",
   "execution_count": 35,
   "metadata": {},
   "outputs": [
    {
     "data": {
      "text/plain": [
       "BenchmarkTools.Trial: 620 samples with 1 evaluation.\n",
       " Range \u001b[90m(\u001b[39m\u001b[36m\u001b[1mmin\u001b[22m\u001b[39m … \u001b[35mmax\u001b[39m\u001b[90m):  \u001b[39m\u001b[36m\u001b[1m6.811 ms\u001b[22m\u001b[39m … \u001b[35m 10.751 ms\u001b[39m  \u001b[90m┊\u001b[39m GC \u001b[90m(\u001b[39mmin … max\u001b[90m): \u001b[39m0.00% … 0.00%\n",
       " Time  \u001b[90m(\u001b[39m\u001b[34m\u001b[1mmedian\u001b[22m\u001b[39m\u001b[90m):     \u001b[39m\u001b[34m\u001b[1m7.928 ms               \u001b[22m\u001b[39m\u001b[90m┊\u001b[39m GC \u001b[90m(\u001b[39mmedian\u001b[90m):    \u001b[39m0.00%\n",
       " Time  \u001b[90m(\u001b[39m\u001b[32m\u001b[1mmean\u001b[22m\u001b[39m ± \u001b[32mσ\u001b[39m\u001b[90m):   \u001b[39m\u001b[32m\u001b[1m8.026 ms\u001b[22m\u001b[39m ± \u001b[32m587.111 μs\u001b[39m  \u001b[90m┊\u001b[39m GC \u001b[90m(\u001b[39mmean ± σ\u001b[90m):  \u001b[39m0.00% ± 0.00%\n",
       "\n",
       "  \u001b[39m \u001b[39m \u001b[39m \u001b[39m \u001b[39m \u001b[39m \u001b[39m \u001b[39m \u001b[39m \u001b[39m \u001b[39m \u001b[39m \u001b[39m \u001b[39m▁\u001b[39m▂\u001b[39m█\u001b[39m▃\u001b[39m▅\u001b[39m▄\u001b[39m█\u001b[34m▅\u001b[39m\u001b[32m▆\u001b[39m\u001b[39m▂\u001b[39m \u001b[39m▂\u001b[39m▂\u001b[39m \u001b[39m \u001b[39m \u001b[39m \u001b[39m \u001b[39m \u001b[39m \u001b[39m \u001b[39m \u001b[39m \u001b[39m \u001b[39m \u001b[39m \u001b[39m \u001b[39m \u001b[39m \u001b[39m \u001b[39m \u001b[39m \u001b[39m \u001b[39m \u001b[39m \u001b[39m \u001b[39m \u001b[39m \u001b[39m \u001b[39m \u001b[39m \u001b[39m \u001b[39m \u001b[39m \u001b[39m \u001b[39m \u001b[39m \u001b[39m \n",
       "  \u001b[39m▃\u001b[39m▁\u001b[39m▃\u001b[39m▃\u001b[39m▄\u001b[39m▄\u001b[39m▃\u001b[39m▄\u001b[39m▄\u001b[39m▇\u001b[39m▆\u001b[39m▅\u001b[39m▆\u001b[39m█\u001b[39m█\u001b[39m█\u001b[39m█\u001b[39m█\u001b[39m█\u001b[39m█\u001b[34m█\u001b[39m\u001b[32m█\u001b[39m\u001b[39m█\u001b[39m█\u001b[39m█\u001b[39m█\u001b[39m▇\u001b[39m▄\u001b[39m▆\u001b[39m▃\u001b[39m▅\u001b[39m▄\u001b[39m▄\u001b[39m▃\u001b[39m▃\u001b[39m▃\u001b[39m▄\u001b[39m▄\u001b[39m▂\u001b[39m▃\u001b[39m▃\u001b[39m▃\u001b[39m▃\u001b[39m▃\u001b[39m▂\u001b[39m▃\u001b[39m▃\u001b[39m▃\u001b[39m▃\u001b[39m▃\u001b[39m▃\u001b[39m▂\u001b[39m▃\u001b[39m▃\u001b[39m▁\u001b[39m▂\u001b[39m▁\u001b[39m▁\u001b[39m▂\u001b[39m \u001b[39m▄\n",
       "  6.81 ms\u001b[90m         Histogram: frequency by time\u001b[39m        10.2 ms \u001b[0m\u001b[1m<\u001b[22m\n",
       "\n",
       " Memory estimate\u001b[90m: \u001b[39m\u001b[33m147.12 KiB\u001b[39m, allocs estimate\u001b[90m: \u001b[39m\u001b[33m2919\u001b[39m."
      ]
     },
     "execution_count": 35,
     "metadata": {},
     "output_type": "execute_result"
    }
   ],
   "source": [
    "@benchmark bilevel_fn(mode=BilevelJuMP.FortunyAmatMcCarlMode(\n",
    "        primal_big_M = 1_000_000, \n",
    "        dual_big_M = 1_000_000))"
   ]
  },
  {
   "cell_type": "markdown",
   "metadata": {},
   "source": [
    "# Generation Expansion Planning"
   ]
  },
  {
   "cell_type": "code",
   "execution_count": 36,
   "metadata": {},
   "outputs": [
    {
     "data": {
      "text/plain": [
       "1:6"
      ]
     },
     "execution_count": 36,
     "metadata": {},
     "output_type": "execute_result"
    }
   ],
   "source": [
    "G = 1:1 # set of generators\n",
    "C = 1:1 # set of candiates\n",
    "D = 1:1 # demand\n",
    "O = 1:2 # outcomes\n",
    "Q = 1:6 # steps in potential new installed capacities (100MW steps of newly built capacities)"
   ]
  },
  {
   "cell_type": "code",
   "execution_count": 62,
   "metadata": {},
   "outputs": [
    {
     "data": {
      "text/plain": [
       "300000"
      ]
     },
     "execution_count": 62,
     "metadata": {},
     "output_type": "execute_result"
    }
   ],
   "source": [
    "ic = [70_000.0] # investment cost per MW - 1 x C\n",
    "\n",
    "pd = [290.0 550.0] # D x O\n",
    "\n",
    "edata = [400.0 35.0] # G x (capacity, cost)\n",
    "\n",
    "CandiData = [0.0 100.0 200.0 300.0 400.0 500.0] # C x Q\n",
    "\n",
    "cdata = [25.0] # C x (Cost)\n",
    "\n",
    "ρ = [6000 2760] # O \\Rho\n",
    "\n",
    "M = 300_000 \n"
   ]
  },
  {
   "cell_type": "code",
   "execution_count": 71,
   "metadata": {},
   "outputs": [
    {
     "data": {
      "text/latex": [
       "$$ 210000 pge_{1,1} + 150000 pgc_{1,1} + 96600 pge_{1,2} + 69000 pgc_{1,2} + 70000 pcmax_{1} $$"
      ],
      "text/plain": [
       "210000 pge[1,1] + 150000 pgc[1,1] + 96600 pge[1,2] + 69000 pgc[1,2] + 70000 pcmax[1]"
      ]
     },
     "execution_count": 71,
     "metadata": {},
     "output_type": "execute_result"
    }
   ],
   "source": [
    "gep = Model(CPLEX.Optimizer)\n",
    "\n",
    "#set_silent(gep) # use when benchmarking!\n",
    "\n",
    "@variables(gep, begin\n",
    "    pge[g in G, o in O] >= 0\n",
    "    pgc[c in C, o in O] >= 0\n",
    "    pcmax[c in C] >= 0\n",
    "    λ[o in O] >= 0\n",
    "    uOp[c in C, q in Q], Bin\n",
    "    μ_emax[g in G, o in O] >= 0\n",
    "    μ_cmax[c in C, o in O] >= 0\n",
    "    zaux[c in C, q in Q, o in O]\n",
    "    zaux2[c in C, q in Q, o in O]\n",
    "end)\n",
    "\n",
    "@constraint(gep, EQ7B[c in C], \n",
    "    pcmax[c] == sum(uOp[c,q]*CandiData[c, q] for q in Q))\n",
    "\n",
    "@constraint(gep, EQ7C[c in C],\n",
    "    sum(uOp[c, :]) == 1)\n",
    "\n",
    "@constraint(gep, EQ7E[o in O],\n",
    "    sum(pge[g, o] for g in G) + \n",
    "    sum(pgc[c, o] for c in C) ==\n",
    "    sum(pd[d, o] for d in D))\n",
    "\n",
    "@constraint(gep, EQ7F[g in G, o in O],\n",
    "    pge[g,o] <= edata[g, 1])\n",
    "\n",
    "@constraint(gep, EQ7G[c in C, o in O],\n",
    "    pgc[c, o] <= pcmax[c])\n",
    "\n",
    "@constraint(gep, EQ7H[g in G, o in O],\n",
    "    edata[g, 2] - λ[o] + μ_emax[g, o] >= 0)\n",
    "\n",
    "@constraint(gep, EQ7I[c in C, o in O],\n",
    "    cdata[c, 1] - λ[o] + μ_cmax[c, o] >= 0)\n",
    "\n",
    "@constraint(gep, EQ7L[o in O],\n",
    "    sum(edata[g, 2] * pge[g,o] for g in G) +\n",
    "    sum(cdata[c, 1] * pgc[c,o] for c in C) ==\n",
    "    λ[o] * sum(pd[d,o] for d in D) - \n",
    "    sum(μ_emax[g,o] * edata[g, 1] for g in G) -\n",
    "    sum(sum(zaux[c,q,o] for q in Q) for c in C))\n",
    "\n",
    "@constraint(gep, EQ7M[c in C, q in Q, o in O],\n",
    "    zaux[c,q,o] == μ_cmax[c,o]*CandiData[c,q]-zaux2[c,q,o])\n",
    "\n",
    "@constraint(gep, EQ7Na[c in C,q in Q,o in O],\n",
    "    0 <= zaux[c,q,o])\n",
    "\n",
    "@constraint(gep, EQ7Nb[c in C,q in Q,o in O],\n",
    "    zaux[c,q,o] <= uOp[c,q] * M)\n",
    "\n",
    "@constraint(gep, EQ7Oa[c in C,q in Q,o in O],\n",
    "    0 <= zaux2[c,q,o])\n",
    "\n",
    "@constraint(gep, EQ7Ob[c in C,q in Q,o in O],\n",
    "    zaux2[c,q,o] <= (1-uOp[c,q]) * M)\n",
    "\n",
    "@objective(gep, Min,\n",
    "    sum(\n",
    "        ρ[o] * (sum(edata[g, 2]*pge[g,o] for g in G) + \n",
    "        sum(cdata[c, 1]*pgc[c,o] for c in C))\n",
    "    for o in O) + \n",
    "    sum(ic[c]*pcmax[c] for c in C))"
   ]
  },
  {
   "cell_type": "code",
   "execution_count": 64,
   "metadata": {},
   "outputs": [
    {
     "data": {
      "text/latex": [
       "$$ \\begin{aligned}\n",
       "\\min\\quad & 210000 pge_{1,1} + 150000 pgc_{1,1} + 96600 pge_{1,2} + 69000 pgc_{1,2} + 70000 pcmax_{1}\\\\\n",
       "\\text{Subject to} \\quad & pcmax_{1} - 100 uOp_{1,2} - 200 uOp_{1,3} - 300 uOp_{1,4} - 400 uOp_{1,5} - 500 uOp_{1,6} = 0.0\\\\\n",
       " & uOp_{1,1} + uOp_{1,2} + uOp_{1,3} + uOp_{1,4} + uOp_{1,5} + uOp_{1,6} = 1.0\\\\\n",
       " & pge_{1,1} + pgc_{1,1} = 290.0\\\\\n",
       " & pge_{1,2} + pgc_{1,2} = 550.0\\\\\n",
       " & 35 pge_{1,1} + 25 pgc_{1,1} - 290 λ_{1} + 400 μ\\_emax_{1,1} + zaux_{1,1,1} + zaux_{1,2,1} + zaux_{1,3,1} + zaux_{1,4,1} + zaux_{1,5,1} + zaux_{1,6,1} = 0.0\\\\\n",
       " & 35 pge_{1,2} + 25 pgc_{1,2} - 550 λ_{2} + 400 μ\\_emax_{1,2} + zaux_{1,1,2} + zaux_{1,2,2} + zaux_{1,3,2} + zaux_{1,4,2} + zaux_{1,5,2} + zaux_{1,6,2} = 0.0\\\\\n",
       " & zaux_{1,1,1} + zaux2_{1,1,1} = 0.0\\\\\n",
       " & -100 μ\\_cmax_{1,1} + zaux_{1,2,1} + zaux2_{1,2,1} = 0.0\\\\\n",
       " & -200 μ\\_cmax_{1,1} + zaux_{1,3,1} + zaux2_{1,3,1} = 0.0\\\\\n",
       " & -300 μ\\_cmax_{1,1} + zaux_{1,4,1} + zaux2_{1,4,1} = 0.0\\\\\n",
       " & -400 μ\\_cmax_{1,1} + zaux_{1,5,1} + zaux2_{1,5,1} = 0.0\\\\\n",
       " & -500 μ\\_cmax_{1,1} + zaux_{1,6,1} + zaux2_{1,6,1} = 0.0\\\\\n",
       " & zaux_{1,1,2} + zaux2_{1,1,2} = 0.0\\\\\n",
       " & -100 μ\\_cmax_{1,2} + zaux_{1,2,2} + zaux2_{1,2,2} = 0.0\\\\\n",
       " & -200 μ\\_cmax_{1,2} + zaux_{1,3,2} + zaux2_{1,3,2} = 0.0\\\\\n",
       " & -300 μ\\_cmax_{1,2} + zaux_{1,4,2} + zaux2_{1,4,2} = 0.0\\\\\n",
       " & -400 μ\\_cmax_{1,2} + zaux_{1,5,2} + zaux2_{1,5,2} = 0.0\\\\\n",
       " & -500 μ\\_cmax_{1,2} + zaux_{1,6,2} + zaux2_{1,6,2} = 0.0\\\\\n",
       " & -λ_{1} + μ\\_emax_{1,1} \\geq -35.0\\\\\n",
       " & -λ_{2} + μ\\_emax_{1,2} \\geq -35.0\\\\\n",
       " & -λ_{1} + μ\\_cmax_{1,1} \\geq -25.0\\\\\n",
       " & -λ_{2} + μ\\_cmax_{1,2} \\geq -25.0\\\\\n",
       " & pge_{1,1} \\leq 400.0\\\\\n",
       " & pge_{1,2} \\leq 400.0\\\\\n",
       " & pgc_{1,1} - pcmax_{1} \\leq 0.0\\\\\n",
       " & pgc_{1,2} - pcmax_{1} \\leq 0.0\\\\\n",
       " & -zaux_{1,1,1} \\leq -1.0\\\\\n",
       " & -zaux_{1,2,1} \\leq -1.0\\\\\n",
       " & -zaux_{1,3,1} \\leq -1.0\\\\\n",
       " & -zaux_{1,4,1} \\leq -1.0\\\\\n",
       " & -zaux_{1,5,1} \\leq -1.0\\\\\n",
       " & -zaux_{1,6,1} \\leq -1.0\\\\\n",
       " & -zaux_{1,1,2} \\leq -2.0\\\\\n",
       " & -zaux_{1,2,2} \\leq -2.0\\\\\n",
       " & -zaux_{1,3,2} \\leq -2.0\\\\\n",
       " & -zaux_{1,4,2} \\leq -2.0\\\\\n",
       " & -zaux_{1,5,2} \\leq -2.0\\\\\n",
       " & -zaux_{1,6,2} \\leq -2.0\\\\\n",
       " & -300000 uOp_{1,1} + zaux_{1,1,1} \\leq 0.0\\\\\n",
       " & -300000 uOp_{1,2} + zaux_{1,2,1} \\leq 0.0\\\\\n",
       " & -300000 uOp_{1,3} + zaux_{1,3,1} \\leq 0.0\\\\\n",
       " & -300000 uOp_{1,4} + zaux_{1,4,1} \\leq 0.0\\\\\n",
       " & -300000 uOp_{1,5} + zaux_{1,5,1} \\leq 0.0\\\\\n",
       " & -300000 uOp_{1,6} + zaux_{1,6,1} \\leq 0.0\\\\\n",
       " & -300000 uOp_{1,1} + zaux_{1,1,2} \\leq 0.0\\\\\n",
       " & -300000 uOp_{1,2} + zaux_{1,2,2} \\leq 0.0\\\\\n",
       " & -300000 uOp_{1,3} + zaux_{1,3,2} \\leq 0.0\\\\\n",
       " & -300000 uOp_{1,4} + zaux_{1,4,2} \\leq 0.0\\\\\n",
       " & -300000 uOp_{1,5} + zaux_{1,5,2} \\leq 0.0\\\\\n",
       " & -300000 uOp_{1,6} + zaux_{1,6,2} \\leq 0.0\\\\\n",
       " & -zaux2_{1,1,1} \\leq -1.0\\\\\n",
       " & -zaux2_{1,2,1} \\leq -1.0\\\\\n",
       " & -zaux2_{1,3,1} \\leq -1.0\\\\\n",
       " & -zaux2_{1,4,1} \\leq -1.0\\\\\n",
       " & -zaux2_{1,5,1} \\leq -1.0\\\\\n",
       " & -zaux2_{1,6,1} \\leq -1.0\\\\\n",
       " & -zaux2_{1,1,2} \\leq -2.0\\\\\n",
       " & -zaux2_{1,2,2} \\leq -2.0\\\\\n",
       " & -zaux2_{1,3,2} \\leq -2.0\\\\\n",
       " & -zaux2_{1,4,2} \\leq -2.0\\\\\n",
       " & -zaux2_{1,5,2} \\leq -2.0\\\\\n",
       " & -zaux2_{1,6,2} \\leq -2.0\\\\\n",
       " & 300000 uOp_{1,1} + zaux2_{1,1,1} \\leq 300000.0\\\\\n",
       " & 300000 uOp_{1,2} + zaux2_{1,2,1} \\leq 300000.0\\\\\n",
       " & 300000 uOp_{1,3} + zaux2_{1,3,1} \\leq 300000.0\\\\\n",
       " & 300000 uOp_{1,4} + zaux2_{1,4,1} \\leq 300000.0\\\\\n",
       " & 300000 uOp_{1,5} + zaux2_{1,5,1} \\leq 300000.0\\\\\n",
       " & 300000 uOp_{1,6} + zaux2_{1,6,1} \\leq 300000.0\\\\\n",
       " & 300000 uOp_{1,1} + zaux2_{1,1,2} \\leq 300000.0\\\\\n",
       " & 300000 uOp_{1,2} + zaux2_{1,2,2} \\leq 300000.0\\\\\n",
       " & 300000 uOp_{1,3} + zaux2_{1,3,2} \\leq 300000.0\\\\\n",
       " & 300000 uOp_{1,4} + zaux2_{1,4,2} \\leq 300000.0\\\\\n",
       " & 300000 uOp_{1,5} + zaux2_{1,5,2} \\leq 300000.0\\\\\n",
       " & 300000 uOp_{1,6} + zaux2_{1,6,2} \\leq 300000.0\\\\\n",
       " & pge_{1,1} \\geq 0.0\\\\\n",
       " & pge_{1,2} \\geq 0.0\\\\\n",
       " & pgc_{1,1} \\geq 0.0\\\\\n",
       " & pgc_{1,2} \\geq 0.0\\\\\n",
       " & pcmax_{1} \\geq 0.0\\\\\n",
       " & λ_{1} \\geq 0.0\\\\\n",
       " & λ_{2} \\geq 0.0\\\\\n",
       " & μ\\_emax_{1,1} \\geq 0.0\\\\\n",
       " & μ\\_emax_{1,2} \\geq 0.0\\\\\n",
       " & μ\\_cmax_{1,1} \\geq 0.0\\\\\n",
       " & μ\\_cmax_{1,2} \\geq 0.0\\\\\n",
       " & uOp_{1,1} \\in \\{0, 1\\}\\\\\n",
       " & uOp_{1,2} \\in \\{0, 1\\}\\\\\n",
       " & uOp_{1,3} \\in \\{0, 1\\}\\\\\n",
       " & uOp_{1,4} \\in \\{0, 1\\}\\\\\n",
       " & uOp_{1,5} \\in \\{0, 1\\}\\\\\n",
       " & uOp_{1,6} \\in \\{0, 1\\}\\\\\n",
       "\\end{aligned} $$"
      ]
     },
     "metadata": {},
     "output_type": "display_data"
    }
   ],
   "source": [
    "print(gep)"
   ]
  },
  {
   "cell_type": "code",
   "execution_count": 72,
   "metadata": {},
   "outputs": [
    {
     "name": "stdout",
     "output_type": "stream",
     "text": [
      "Version identifier: 22.1.1.0 | 2022-11-26 | 9160aff4d\r\n",
      "Tried aggregator 2 times.\r\n",
      "MIP Presolve eliminated 38 rows and 10 columns.\r\n",
      "MIP Presolve modified 67 coefficients.\r\n",
      "Aggregator did 7 substitutions.\r\n",
      "Reduced MIP has 29 rows, 24 columns, and 95 nonzeros.\r\n",
      "Reduced MIP has 5 binaries, 0 generals, 0 SOSs, and 0 indicators.\r\n",
      "Presolve time = 0.00 sec. (0.17 ticks)\r\n",
      "Found incumbent of value 1.1051000e+08 after 0.02 sec. (0.22 ticks)\r\n",
      "Probing fixed 1 vars, tightened 17 bounds.\r\n",
      "Probing time = 0.02 sec. (0.45 ticks)\r\n",
      "Tried aggregator 1 time.\r\n",
      "Detecting symmetries...\r\n",
      "MIP Presolve eliminated 1 rows and 2 columns.\r\n",
      "MIP Presolve modified 21 coefficients.\r\n",
      "Reduced MIP has 28 rows, 22 columns, and 87 nonzeros.\r\n",
      "Reduced MIP has 4 binaries, 0 generals, 0 SOSs, and 0 indicators.\r\n",
      "Presolve time = 0.00 sec. (0.06 ticks)\r\n",
      "Probing fixed 0 vars, tightened 4 bounds.\r\n",
      "Probing time = 0.00 sec. (0.12 ticks)\r\n",
      "Clique table members: 1.\r\n",
      "MIP emphasis: balance optimality and feasibility.\r\n",
      "MIP search method: dynamic search.\r\n",
      "Parallel mode: deterministic, using up to 8 threads.\r\n",
      "Root relaxation solution time = 0.02 sec. (0.04 ticks)\r\n",
      "\r\n",
      "        Nodes                                         Cuts/\r\n",
      "   Node  Left     Objective  IInf  Best Integer    Best Bound    ItCnt     Gap\r\n",
      "\r\n",
      "*     0+    0                       1.10510e+08   8.28300e+07            25.05%\r\n",
      "*     0     0      integral     0   1.09350e+08   1.09350e+08        4    0.00%\r\n",
      "Elapsed time = 0.06 sec. (0.94 ticks, tree = 0.00 MB, solutions = 2)\r\n",
      "\r\n",
      "Root node processing (before b&c):\r\n",
      "  Real time             =    0.06 sec. (0.94 ticks)\r\n",
      "Parallel b&c, 8 threads:\r\n",
      "  Real time             =    0.00 sec. (0.00 ticks)\r\n",
      "  Sync time (average)   =    0.00 sec.\r\n",
      "  Wait time (average)   =    0.00 sec.\r\n",
      "                          ------------\r\n",
      "Total (root+branch&cut) =    0.06 sec. (0.94 ticks)\r\n"
     ]
    }
   ],
   "source": [
    "optimize!(gep)"
   ]
  },
  {
   "cell_type": "code",
   "execution_count": 73,
   "metadata": {},
   "outputs": [
    {
     "data": {
      "text/plain": [
       "OPTIMAL::TerminationStatusCode = 1"
      ]
     },
     "execution_count": 73,
     "metadata": {},
     "output_type": "execute_result"
    }
   ],
   "source": [
    "termination_status(gep)"
   ]
  },
  {
   "cell_type": "code",
   "execution_count": 74,
   "metadata": {},
   "outputs": [
    {
     "data": {
      "text/plain": [
       "2-dimensional DenseAxisArray{Float64,2,...} with index sets:\n",
       "    Dimension 1, 1:1\n",
       "    Dimension 2, 1:2\n",
       "And data, a 1×2 Matrix{Float64}:\n",
       " 0.0  250.0"
      ]
     },
     "execution_count": 74,
     "metadata": {},
     "output_type": "execute_result"
    }
   ],
   "source": [
    "value.(pge)"
   ]
  },
  {
   "cell_type": "code",
   "execution_count": 75,
   "metadata": {},
   "outputs": [
    {
     "data": {
      "text/plain": [
       "2-dimensional DenseAxisArray{Float64,2,...} with index sets:\n",
       "    Dimension 1, 1:1\n",
       "    Dimension 2, 1:2\n",
       "And data, a 1×2 Matrix{Float64}:\n",
       " 290.0  300.0"
      ]
     },
     "execution_count": 75,
     "metadata": {},
     "output_type": "execute_result"
    }
   ],
   "source": [
    "value.(pgc)"
   ]
  },
  {
   "cell_type": "markdown",
   "metadata": {},
   "source": [
    "## manual with indicator mode"
   ]
  },
  {
   "cell_type": "code",
   "execution_count": 76,
   "metadata": {},
   "outputs": [
    {
     "data": {
      "text/latex": [
       "$$ 210000 pge_{1,1} + 150000 pgc_{1,1} + 96600 pge_{1,2} + 69000 pgc_{1,2} + 70000 pcmax_{1} $$"
      ],
      "text/plain": [
       "210000 pge[1,1] + 150000 pgc[1,1] + 96600 pge[1,2] + 69000 pgc[1,2] + 70000 pcmax[1]"
      ]
     },
     "execution_count": 76,
     "metadata": {},
     "output_type": "execute_result"
    }
   ],
   "source": [
    "gep2 = Model(CPLEX.Optimizer)\n",
    "set_silent(gep2) # use when benchmarking!\n",
    "\n",
    "@variables(gep2, begin\n",
    "    0 <= pge[g in G, o in O] <= edata[g, 1]\n",
    "    pgc[c in C, o in O] >= 0\n",
    "    pcmax[c in C] >= 0\n",
    "    λ[o in O] >= 0\n",
    "    uOp[c in C, q in Q], Bin\n",
    "    μ_emax[g in G, o in O] >= 0\n",
    "    μ_cmax[c in C, o in O] >= 0\n",
    "    zaux[c in C, q in Q, o in O] >= 0\n",
    "    zaux2[c in C, q in Q, o in O] >= 0\n",
    "end)\n",
    "\n",
    "@constraint(gep2, EQ7B[c in C], \n",
    "    pcmax[c] == sum(uOp[c,q]*CandiData[c, q] for q in Q))\n",
    "\n",
    "@constraint(gep2, EQ7C[c in C],\n",
    "    sum(uOp[c, :]) == 1)\n",
    "\n",
    "@constraint(gep2, EQ7E[o in O],\n",
    "    sum(pge[g, o] for g in G) + \n",
    "    sum(pgc[c, o] for c in C) ==\n",
    "    sum(pd[d, o] for d in D))\n",
    "\n",
    "@constraint(gep2, EQ7G[c in C, o in O],\n",
    "    pgc[c, o] <= pcmax[c])\n",
    "\n",
    "@constraint(gep2, EQ7H[g in G, o in O],\n",
    "    edata[g, 2] - λ[o] + μ_emax[g, o] >= 0)\n",
    "\n",
    "@constraint(gep2, EQ7I[c in C, o in O],\n",
    "    cdata[c, 1] - λ[o] + μ_cmax[c, o] >= 0)\n",
    "\n",
    "@constraint(gep2, EQ7L[o in O],\n",
    "    sum(edata[g, 2] * pge[g,o] for g in G) +\n",
    "    sum(cdata[c, 1] * pgc[c,o] for c in C) ==\n",
    "    λ[o] * sum(pd[d,o] for d in D) - \n",
    "    sum(μ_emax[g,o] * edata[g, 1] for g in G) -\n",
    "    sum(sum(zaux[c,q,o] for q in Q) for c in C))\n",
    "\n",
    "@constraint(gep2, EQ7M[c in C, q in Q, o in O],\n",
    "    zaux[c,q,o] == μ_cmax[c,o]*CandiData[c,q]-zaux2[c,q,o])\n",
    "\n",
    "@constraint(gep2, EQ7Nb[c in C,q in Q,o in O],\n",
    "    !uOp[c,q] => {zaux[c,q,o] == 0})\n",
    "\n",
    "@constraint(gep2, EQ7Ob[c in C,q in Q,o in O],\n",
    "    uOp[c,q] => {zaux2[c,q,o] == 0})\n",
    "\n",
    "@objective(gep2, Min,\n",
    "    sum(\n",
    "        ρ[o] * (sum(edata[g, 2]*pge[g,o] for g in G) + \n",
    "        sum(cdata[c, 1]*pgc[c,o] for c in C))\n",
    "    for o in O) + \n",
    "    sum(ic[c]*pcmax[c] for c in C))"
   ]
  },
  {
   "cell_type": "code",
   "execution_count": 77,
   "metadata": {},
   "outputs": [],
   "source": [
    "optimize!(gep2)"
   ]
  },
  {
   "cell_type": "code",
   "execution_count": 78,
   "metadata": {},
   "outputs": [
    {
     "data": {
      "text/plain": [
       "2-dimensional DenseAxisArray{Float64,2,...} with index sets:\n",
       "    Dimension 1, 1:1\n",
       "    Dimension 2, 1:6\n",
       "And data, a 1×6 Matrix{Float64}:\n",
       " -0.0  0.0  0.0  1.0  0.0  0.0"
      ]
     },
     "execution_count": 78,
     "metadata": {},
     "output_type": "execute_result"
    }
   ],
   "source": [
    "value.(uOp)"
   ]
  },
  {
   "cell_type": "markdown",
   "metadata": {},
   "source": [
    "## Randomness"
   ]
  },
  {
   "cell_type": "code",
   "execution_count": 79,
   "metadata": {},
   "outputs": [
    {
     "name": "stderr",
     "output_type": "stream",
     "text": [
      "\u001b[36m\u001b[1m[ \u001b[22m\u001b[39m\u001b[36m\u001b[1mInfo: \u001b[22m\u001b[39mPrecompiling Distributions [31c24e10-a181-5473-b8eb-7969acd0382f]\n",
      "WARNING: using Distributions.shape in module Main conflicts with an existing identifier.\n",
      "\u001b[36m\u001b[1m[ \u001b[22m\u001b[39m\u001b[36m\u001b[1mInfo: \u001b[22m\u001b[39mPrecompiling Plots [91a5bcdd-55d7-5caf-9e0b-520d859cae80]\n"
     ]
    },
    {
     "data": {
      "text/plain": [
       "Plots.PGFPlotsXBackend()"
      ]
     },
     "execution_count": 79,
     "metadata": {},
     "output_type": "execute_result"
    }
   ],
   "source": [
    "using Distributions, Plots, PGFPlotsX\n",
    "pgfplotsx()"
   ]
  },
  {
   "cell_type": "code",
   "execution_count": 80,
   "metadata": {},
   "outputs": [
    {
     "data": {
      "text/plain": [
       "Weibull{Float64}(α=2.0, θ=5.0)"
      ]
     },
     "execution_count": 80,
     "metadata": {},
     "output_type": "execute_result"
    }
   ],
   "source": [
    "wind = Weibull(2, 5.0)"
   ]
  },
  {
   "cell_type": "code",
   "execution_count": 81,
   "metadata": {},
   "outputs": [
    {
     "ename": "LoadError",
     "evalue": "MethodError: pdf(::Weibull{Float64}, ::StepRangeLen{Float64, Base.TwicePrecision{Float64}, Base.TwicePrecision{Float64}, Int64}) is ambiguous. Candidates:\n  pdf(d::Distribution{ArrayLikeVariate{N}}, x::AbstractArray{<:Real, M}) where {N, M} in Distributions at C:\\Users\\Chris\\.julia\\packages\\Distributions\\YQQXX\\src\\common.jl:275\n  pdf(d::UnivariateDistribution, X::AbstractArray) in Distributions at deprecated.jl:70\nPossible fix, define\n  pdf(::UnivariateDistribution, ::AbstractArray{T, M} where T<:Real) where M",
     "output_type": "error",
     "traceback": [
      "MethodError: pdf(::Weibull{Float64}, ::StepRangeLen{Float64, Base.TwicePrecision{Float64}, Base.TwicePrecision{Float64}, Int64}) is ambiguous. Candidates:\n  pdf(d::Distribution{ArrayLikeVariate{N}}, x::AbstractArray{<:Real, M}) where {N, M} in Distributions at C:\\Users\\Chris\\.julia\\packages\\Distributions\\YQQXX\\src\\common.jl:275\n  pdf(d::UnivariateDistribution, X::AbstractArray) in Distributions at deprecated.jl:70\nPossible fix, define\n  pdf(::UnivariateDistribution, ::AbstractArray{T, M} where T<:Real) where M",
      "",
      "Stacktrace:",
      " [1] top-level scope",
      "   @ In[81]:3"
     ]
    }
   ],
   "source": [
    "x = 0.0:0.01:12.0\n",
    "\n",
    "plot(x, pdf(wind, x))"
   ]
  },
  {
   "cell_type": "code",
   "execution_count": 82,
   "metadata": {},
   "outputs": [
    {
     "data": {
      "text/plain": [
       "100000-element Vector{Float64}:\n",
       "  1.0970403944929974\n",
       "  4.892680934075254\n",
       "  3.219690794022636\n",
       " 10.665595001779455\n",
       "  2.4480062192113934\n",
       "  5.767006351608433\n",
       "  3.410973272285978\n",
       "  6.334284108121487\n",
       "  5.7439639267398075\n",
       "  3.342360107758573\n",
       "  5.411815221523595\n",
       "  8.476823608356693\n",
       "  6.046697454246157\n",
       "  ⋮\n",
       "  5.182772854148729\n",
       "  2.662596028809289\n",
       "  7.932446762558833\n",
       "  5.397656388016669\n",
       "  3.3098320196424336\n",
       "  2.6959176495402137\n",
       "  8.359515331725612\n",
       "  2.280884162578896\n",
       "  6.374202903278201\n",
       " 10.031242541417658\n",
       "  3.4440865848306363\n",
       "  4.154944232656937"
      ]
     },
     "execution_count": 82,
     "metadata": {},
     "output_type": "execute_result"
    }
   ],
   "source": [
    "N = 100_000\n",
    "\n",
    "sample = rand(wind, N)"
   ]
  },
  {
   "cell_type": "code",
   "execution_count": 83,
   "metadata": {},
   "outputs": [
    {
     "ename": "PGFPlotsX.MissingExternalProgramError",
     "evalue": "No LaTeX installation found, figures will not be generated. Make sure either pdflatex, xelatex or lualatex are installed and that the PATH variable is correctly set.",
     "output_type": "error",
     "traceback": [
      "No LaTeX installation found, figures will not be generated. Make sure either pdflatex, xelatex or lualatex are installed and that the PATH variable is correctly set.",
      "",
      "Stacktrace:",
      "  [1] latexengine()",
      "    @ PGFPlotsX C:\\Users\\Chris\\.julia\\packages\\PGFPlotsX\\78BAg\\src\\build.jl:19",
      "  [2] show(f::IOBuffer, #unused#::MIME{Symbol(\"image/svg+xml\")}, td::TikzDocument)",
      "    @ PGFPlotsX C:\\Users\\Chris\\.julia\\packages\\PGFPlotsX\\78BAg\\src\\tikzdocument.jl:294",
      "  [3] _show(io::IOBuffer, mime::MIME{Symbol(\"image/svg+xml\")}, plt::Plots.Plot{Plots.PGFPlotsXBackend})",
      "    @ Plots C:\\Users\\Chris\\.julia\\packages\\Plots\\bMtsB\\src\\backends\\pgfplotsx.jl:1312",
      "  [4] #invokelatest#2",
      "    @ .\\essentials.jl:729 [inlined]",
      "  [5] invokelatest",
      "    @ .\\essentials.jl:726 [inlined]",
      "  [6] show(io::IOBuffer, m::MIME{Symbol(\"image/svg+xml\")}, plt::Plots.Plot{Plots.PGFPlotsXBackend})",
      "    @ Plots C:\\Users\\Chris\\.julia\\packages\\Plots\\bMtsB\\src\\output.jl:232",
      "  [7] sprint(::Function, ::MIME{Symbol(\"image/svg+xml\")}, ::Vararg{Any}; context::Nothing, sizehint::Int64)",
      "    @ Base .\\strings\\io.jl:114",
      "  [8] sprint",
      "    @ .\\strings\\io.jl:107 [inlined]",
      "  [9] _ijulia_display_dict(plt::Plots.Plot{Plots.PGFPlotsXBackend})",
      "    @ Plots.IJuliaExt C:\\Users\\Chris\\.julia\\packages\\Plots\\bMtsB\\ext\\IJuliaExt.jl:53",
      " [10] display_dict(plt::Plots.Plot{Plots.PGFPlotsXBackend})",
      "    @ Plots.IJuliaExt C:\\Users\\Chris\\.julia\\packages\\Plots\\bMtsB\\ext\\IJuliaExt.jl:69",
      " [11] #invokelatest#2",
      "    @ .\\essentials.jl:729 [inlined]",
      " [12] invokelatest",
      "    @ .\\essentials.jl:726 [inlined]",
      " [13] execute_request(socket::ZMQ.Socket, msg::IJulia.Msg)",
      "    @ IJulia C:\\Users\\Chris\\.julia\\packages\\IJulia\\6TIq1\\src\\execute_request.jl:112",
      " [14] #invokelatest#2",
      "    @ .\\essentials.jl:729 [inlined]",
      " [15] invokelatest",
      "    @ .\\essentials.jl:726 [inlined]",
      " [16] eventloop(socket::ZMQ.Socket)",
      "    @ IJulia C:\\Users\\Chris\\.julia\\packages\\IJulia\\6TIq1\\src\\eventloop.jl:8",
      " [17] (::IJulia.var\"#15#18\")()",
      "    @ IJulia .\\task.jl:484"
     ]
    }
   ],
   "source": [
    "histogram(\n",
    "    sample, \n",
    "    label=\"Sample N = \"*string(N),\n",
    "    xlabel=\"Wind speed\",\n",
    "    ylabel=\"Count\",\n",
    "    lw=0.2,\n",
    "    c=:lightgray,\n",
    "    xlims = (0, max(sample...)),\n",
    "    ylims = (0, 3500),\n",
    "    legend=:topright,\n",
    "    size=(500,500),\n",
    "    xtickfontsize=12,\n",
    "    ytickfontsize=12,\n",
    "    xlabelfontsize=14,\n",
    "    ylabelfontsize=14,\n",
    "    legendfontsize=12,\n",
    ")"
   ]
  }
 ],
 "metadata": {
  "kernelspec": {
   "display_name": "Julia 1.8.2",
   "language": "julia",
   "name": "julia-1.8"
  },
  "language_info": {
   "file_extension": ".jl",
   "mimetype": "application/julia",
   "name": "julia",
   "version": "1.8.2"
  }
 },
 "nbformat": 4,
 "nbformat_minor": 2
}
